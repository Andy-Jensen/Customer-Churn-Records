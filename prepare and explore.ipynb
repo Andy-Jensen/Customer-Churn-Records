{
 "cells": [
  {
   "cell_type": "code",
   "execution_count": 1,
   "id": "f30dc492",
   "metadata": {},
   "outputs": [],
   "source": [
    "import pandas as pd\n",
    "import numpy as np\n",
    "import matplotlib.pyplot as plt\n",
    "import seaborn as sns\n",
    "import scipy.stats as stats\n",
    "import explore as ex"
   ]
  },
  {
   "cell_type": "code",
   "execution_count": 2,
   "id": "1aa59894",
   "metadata": {},
   "outputs": [],
   "source": [
    "df=pd.read_csv('Customer-Churn-Records.csv')"
   ]
  },
  {
   "cell_type": "code",
   "execution_count": 3,
   "id": "cd7ddda2",
   "metadata": {},
   "outputs": [
    {
     "data": {
      "text/html": [
       "<div>\n",
       "<style scoped>\n",
       "    .dataframe tbody tr th:only-of-type {\n",
       "        vertical-align: middle;\n",
       "    }\n",
       "\n",
       "    .dataframe tbody tr th {\n",
       "        vertical-align: top;\n",
       "    }\n",
       "\n",
       "    .dataframe thead th {\n",
       "        text-align: right;\n",
       "    }\n",
       "</style>\n",
       "<table border=\"1\" class=\"dataframe\">\n",
       "  <thead>\n",
       "    <tr style=\"text-align: right;\">\n",
       "      <th></th>\n",
       "      <th>RowNumber</th>\n",
       "      <th>CustomerId</th>\n",
       "      <th>Surname</th>\n",
       "      <th>CreditScore</th>\n",
       "      <th>Geography</th>\n",
       "      <th>Gender</th>\n",
       "      <th>Age</th>\n",
       "      <th>Tenure</th>\n",
       "      <th>Balance</th>\n",
       "      <th>NumOfProducts</th>\n",
       "      <th>HasCrCard</th>\n",
       "      <th>IsActiveMember</th>\n",
       "      <th>EstimatedSalary</th>\n",
       "      <th>Exited</th>\n",
       "      <th>Complain</th>\n",
       "      <th>Satisfaction Score</th>\n",
       "      <th>Card Type</th>\n",
       "      <th>Point Earned</th>\n",
       "    </tr>\n",
       "  </thead>\n",
       "  <tbody>\n",
       "    <tr>\n",
       "      <th>0</th>\n",
       "      <td>1</td>\n",
       "      <td>15634602</td>\n",
       "      <td>Hargrave</td>\n",
       "      <td>619</td>\n",
       "      <td>France</td>\n",
       "      <td>Female</td>\n",
       "      <td>42</td>\n",
       "      <td>2</td>\n",
       "      <td>0.00</td>\n",
       "      <td>1</td>\n",
       "      <td>1</td>\n",
       "      <td>1</td>\n",
       "      <td>101348.88</td>\n",
       "      <td>1</td>\n",
       "      <td>1</td>\n",
       "      <td>2</td>\n",
       "      <td>DIAMOND</td>\n",
       "      <td>464</td>\n",
       "    </tr>\n",
       "    <tr>\n",
       "      <th>1</th>\n",
       "      <td>2</td>\n",
       "      <td>15647311</td>\n",
       "      <td>Hill</td>\n",
       "      <td>608</td>\n",
       "      <td>Spain</td>\n",
       "      <td>Female</td>\n",
       "      <td>41</td>\n",
       "      <td>1</td>\n",
       "      <td>83807.86</td>\n",
       "      <td>1</td>\n",
       "      <td>0</td>\n",
       "      <td>1</td>\n",
       "      <td>112542.58</td>\n",
       "      <td>0</td>\n",
       "      <td>1</td>\n",
       "      <td>3</td>\n",
       "      <td>DIAMOND</td>\n",
       "      <td>456</td>\n",
       "    </tr>\n",
       "    <tr>\n",
       "      <th>2</th>\n",
       "      <td>3</td>\n",
       "      <td>15619304</td>\n",
       "      <td>Onio</td>\n",
       "      <td>502</td>\n",
       "      <td>France</td>\n",
       "      <td>Female</td>\n",
       "      <td>42</td>\n",
       "      <td>8</td>\n",
       "      <td>159660.80</td>\n",
       "      <td>3</td>\n",
       "      <td>1</td>\n",
       "      <td>0</td>\n",
       "      <td>113931.57</td>\n",
       "      <td>1</td>\n",
       "      <td>1</td>\n",
       "      <td>3</td>\n",
       "      <td>DIAMOND</td>\n",
       "      <td>377</td>\n",
       "    </tr>\n",
       "    <tr>\n",
       "      <th>3</th>\n",
       "      <td>4</td>\n",
       "      <td>15701354</td>\n",
       "      <td>Boni</td>\n",
       "      <td>699</td>\n",
       "      <td>France</td>\n",
       "      <td>Female</td>\n",
       "      <td>39</td>\n",
       "      <td>1</td>\n",
       "      <td>0.00</td>\n",
       "      <td>2</td>\n",
       "      <td>0</td>\n",
       "      <td>0</td>\n",
       "      <td>93826.63</td>\n",
       "      <td>0</td>\n",
       "      <td>0</td>\n",
       "      <td>5</td>\n",
       "      <td>GOLD</td>\n",
       "      <td>350</td>\n",
       "    </tr>\n",
       "    <tr>\n",
       "      <th>4</th>\n",
       "      <td>5</td>\n",
       "      <td>15737888</td>\n",
       "      <td>Mitchell</td>\n",
       "      <td>850</td>\n",
       "      <td>Spain</td>\n",
       "      <td>Female</td>\n",
       "      <td>43</td>\n",
       "      <td>2</td>\n",
       "      <td>125510.82</td>\n",
       "      <td>1</td>\n",
       "      <td>1</td>\n",
       "      <td>1</td>\n",
       "      <td>79084.10</td>\n",
       "      <td>0</td>\n",
       "      <td>0</td>\n",
       "      <td>5</td>\n",
       "      <td>GOLD</td>\n",
       "      <td>425</td>\n",
       "    </tr>\n",
       "  </tbody>\n",
       "</table>\n",
       "</div>"
      ],
      "text/plain": [
       "   RowNumber  CustomerId   Surname  CreditScore Geography  Gender  Age  \\\n",
       "0          1    15634602  Hargrave          619    France  Female   42   \n",
       "1          2    15647311      Hill          608     Spain  Female   41   \n",
       "2          3    15619304      Onio          502    France  Female   42   \n",
       "3          4    15701354      Boni          699    France  Female   39   \n",
       "4          5    15737888  Mitchell          850     Spain  Female   43   \n",
       "\n",
       "   Tenure    Balance  NumOfProducts  HasCrCard  IsActiveMember  \\\n",
       "0       2       0.00              1          1               1   \n",
       "1       1   83807.86              1          0               1   \n",
       "2       8  159660.80              3          1               0   \n",
       "3       1       0.00              2          0               0   \n",
       "4       2  125510.82              1          1               1   \n",
       "\n",
       "   EstimatedSalary  Exited  Complain  Satisfaction Score Card Type  \\\n",
       "0        101348.88       1         1                   2   DIAMOND   \n",
       "1        112542.58       0         1                   3   DIAMOND   \n",
       "2        113931.57       1         1                   3   DIAMOND   \n",
       "3         93826.63       0         0                   5      GOLD   \n",
       "4         79084.10       0         0                   5      GOLD   \n",
       "\n",
       "   Point Earned  \n",
       "0           464  \n",
       "1           456  \n",
       "2           377  \n",
       "3           350  \n",
       "4           425  "
      ]
     },
     "execution_count": 3,
     "metadata": {},
     "output_type": "execute_result"
    }
   ],
   "source": [
    "df.head()"
   ]
  },
  {
   "cell_type": "code",
   "execution_count": 4,
   "id": "125c456e",
   "metadata": {
    "scrolled": false
   },
   "outputs": [
    {
     "name": "stdout",
     "output_type": "stream",
     "text": [
      "RowNumber\n",
      "0\n",
      "CustomerId\n",
      "0\n",
      "Surname\n",
      "0\n",
      "CreditScore\n",
      "0\n",
      "Geography\n",
      "0\n",
      "Gender\n",
      "0\n",
      "Age\n",
      "0\n",
      "Tenure\n",
      "0\n",
      "Balance\n",
      "0\n",
      "NumOfProducts\n",
      "0\n",
      "HasCrCard\n",
      "0\n",
      "IsActiveMember\n",
      "0\n",
      "EstimatedSalary\n",
      "0\n",
      "Exited\n",
      "0\n",
      "Complain\n",
      "0\n",
      "Satisfaction Score\n",
      "0\n",
      "Card Type\n",
      "0\n",
      "Point Earned\n",
      "0\n"
     ]
    }
   ],
   "source": [
    "#checking for nulls in the dataset\n",
    "for c in df:\n",
    "    print(c)\n",
    "    print(df[c].isna().sum())"
   ]
  },
  {
   "cell_type": "code",
   "execution_count": 5,
   "id": "ae92c3c8",
   "metadata": {},
   "outputs": [],
   "source": [
    "#rename the features so they are easier to deal with and drop the row number feature. it is irrelivant.\n",
    "df.drop(columns='RowNumber', inplace=True)\n",
    "df.rename(columns={'CustomerId': 'customer_id', 'Surname': 'surname', 'CreditScore': 'credit_score',\n",
    "                   'Geography': 'geography', 'Gender': 'gender',\n",
    "                   'Age': 'age', 'Tenure': 'tenure', 'Balance': 'balance',\n",
    "                   'NumOfProducts': 'num_products', 'HasCrCard': 'has_cr_card',\n",
    "                   'IsActiveMember': 'is_active_member',\n",
    "                   'EstimatedSalary': 'estimated_salary', 'Exited': 'churn',\n",
    "                   'Complain': 'complain', 'Satisfaction Score': 'satisfaction_score',\n",
    "                   'Card Type': 'card_type', 'Point Earned': 'point_earned'}, inplace=True)"
   ]
  },
  {
   "cell_type": "code",
   "execution_count": 6,
   "id": "2ef9dd9b",
   "metadata": {},
   "outputs": [
    {
     "data": {
      "text/html": [
       "<div>\n",
       "<style scoped>\n",
       "    .dataframe tbody tr th:only-of-type {\n",
       "        vertical-align: middle;\n",
       "    }\n",
       "\n",
       "    .dataframe tbody tr th {\n",
       "        vertical-align: top;\n",
       "    }\n",
       "\n",
       "    .dataframe thead th {\n",
       "        text-align: right;\n",
       "    }\n",
       "</style>\n",
       "<table border=\"1\" class=\"dataframe\">\n",
       "  <thead>\n",
       "    <tr style=\"text-align: right;\">\n",
       "      <th></th>\n",
       "      <th>customer_id</th>\n",
       "      <th>surname</th>\n",
       "      <th>credit_score</th>\n",
       "      <th>geography</th>\n",
       "      <th>gender</th>\n",
       "      <th>age</th>\n",
       "      <th>tenure</th>\n",
       "      <th>balance</th>\n",
       "      <th>num_products</th>\n",
       "      <th>has_cr_card</th>\n",
       "      <th>is_active_member</th>\n",
       "      <th>estimated_salary</th>\n",
       "      <th>churn</th>\n",
       "      <th>complain</th>\n",
       "      <th>satisfaction_score</th>\n",
       "      <th>card_type</th>\n",
       "      <th>point_earned</th>\n",
       "    </tr>\n",
       "  </thead>\n",
       "  <tbody>\n",
       "    <tr>\n",
       "      <th>0</th>\n",
       "      <td>15634602</td>\n",
       "      <td>Hargrave</td>\n",
       "      <td>619</td>\n",
       "      <td>France</td>\n",
       "      <td>Female</td>\n",
       "      <td>42</td>\n",
       "      <td>2</td>\n",
       "      <td>0.00</td>\n",
       "      <td>1</td>\n",
       "      <td>1</td>\n",
       "      <td>1</td>\n",
       "      <td>101348.88</td>\n",
       "      <td>1</td>\n",
       "      <td>1</td>\n",
       "      <td>2</td>\n",
       "      <td>DIAMOND</td>\n",
       "      <td>464</td>\n",
       "    </tr>\n",
       "    <tr>\n",
       "      <th>1</th>\n",
       "      <td>15647311</td>\n",
       "      <td>Hill</td>\n",
       "      <td>608</td>\n",
       "      <td>Spain</td>\n",
       "      <td>Female</td>\n",
       "      <td>41</td>\n",
       "      <td>1</td>\n",
       "      <td>83807.86</td>\n",
       "      <td>1</td>\n",
       "      <td>0</td>\n",
       "      <td>1</td>\n",
       "      <td>112542.58</td>\n",
       "      <td>0</td>\n",
       "      <td>1</td>\n",
       "      <td>3</td>\n",
       "      <td>DIAMOND</td>\n",
       "      <td>456</td>\n",
       "    </tr>\n",
       "    <tr>\n",
       "      <th>2</th>\n",
       "      <td>15619304</td>\n",
       "      <td>Onio</td>\n",
       "      <td>502</td>\n",
       "      <td>France</td>\n",
       "      <td>Female</td>\n",
       "      <td>42</td>\n",
       "      <td>8</td>\n",
       "      <td>159660.80</td>\n",
       "      <td>3</td>\n",
       "      <td>1</td>\n",
       "      <td>0</td>\n",
       "      <td>113931.57</td>\n",
       "      <td>1</td>\n",
       "      <td>1</td>\n",
       "      <td>3</td>\n",
       "      <td>DIAMOND</td>\n",
       "      <td>377</td>\n",
       "    </tr>\n",
       "    <tr>\n",
       "      <th>3</th>\n",
       "      <td>15701354</td>\n",
       "      <td>Boni</td>\n",
       "      <td>699</td>\n",
       "      <td>France</td>\n",
       "      <td>Female</td>\n",
       "      <td>39</td>\n",
       "      <td>1</td>\n",
       "      <td>0.00</td>\n",
       "      <td>2</td>\n",
       "      <td>0</td>\n",
       "      <td>0</td>\n",
       "      <td>93826.63</td>\n",
       "      <td>0</td>\n",
       "      <td>0</td>\n",
       "      <td>5</td>\n",
       "      <td>GOLD</td>\n",
       "      <td>350</td>\n",
       "    </tr>\n",
       "    <tr>\n",
       "      <th>4</th>\n",
       "      <td>15737888</td>\n",
       "      <td>Mitchell</td>\n",
       "      <td>850</td>\n",
       "      <td>Spain</td>\n",
       "      <td>Female</td>\n",
       "      <td>43</td>\n",
       "      <td>2</td>\n",
       "      <td>125510.82</td>\n",
       "      <td>1</td>\n",
       "      <td>1</td>\n",
       "      <td>1</td>\n",
       "      <td>79084.10</td>\n",
       "      <td>0</td>\n",
       "      <td>0</td>\n",
       "      <td>5</td>\n",
       "      <td>GOLD</td>\n",
       "      <td>425</td>\n",
       "    </tr>\n",
       "  </tbody>\n",
       "</table>\n",
       "</div>"
      ],
      "text/plain": [
       "   customer_id   surname  credit_score geography  gender  age  tenure  \\\n",
       "0     15634602  Hargrave           619    France  Female   42       2   \n",
       "1     15647311      Hill           608     Spain  Female   41       1   \n",
       "2     15619304      Onio           502    France  Female   42       8   \n",
       "3     15701354      Boni           699    France  Female   39       1   \n",
       "4     15737888  Mitchell           850     Spain  Female   43       2   \n",
       "\n",
       "     balance  num_products  has_cr_card  is_active_member  estimated_salary  \\\n",
       "0       0.00             1            1                 1         101348.88   \n",
       "1   83807.86             1            0                 1         112542.58   \n",
       "2  159660.80             3            1                 0         113931.57   \n",
       "3       0.00             2            0                 0          93826.63   \n",
       "4  125510.82             1            1                 1          79084.10   \n",
       "\n",
       "   churn  complain  satisfaction_score card_type  point_earned  \n",
       "0      1         1                   2   DIAMOND           464  \n",
       "1      0         1                   3   DIAMOND           456  \n",
       "2      1         1                   3   DIAMOND           377  \n",
       "3      0         0                   5      GOLD           350  \n",
       "4      0         0                   5      GOLD           425  "
      ]
     },
     "execution_count": 6,
     "metadata": {},
     "output_type": "execute_result"
    }
   ],
   "source": [
    "df.head()"
   ]
  },
  {
   "cell_type": "markdown",
   "id": "087c4579",
   "metadata": {},
   "source": [
    "## There is not much preperation for this data set so we will get into exploration"
   ]
  },
  {
   "cell_type": "code",
   "execution_count": 7,
   "id": "8921c79e",
   "metadata": {},
   "outputs": [],
   "source": [
    "#split into train, val and test. stratify on churn because it's our target\n",
    "train, val, test= ex.tts(df, 'churn')"
   ]
  },
  {
   "cell_type": "code",
   "execution_count": 8,
   "id": "3a74feb6",
   "metadata": {},
   "outputs": [
    {
     "data": {
      "text/html": [
       "<div>\n",
       "<style scoped>\n",
       "    .dataframe tbody tr th:only-of-type {\n",
       "        vertical-align: middle;\n",
       "    }\n",
       "\n",
       "    .dataframe tbody tr th {\n",
       "        vertical-align: top;\n",
       "    }\n",
       "\n",
       "    .dataframe thead th {\n",
       "        text-align: right;\n",
       "    }\n",
       "</style>\n",
       "<table border=\"1\" class=\"dataframe\">\n",
       "  <thead>\n",
       "    <tr style=\"text-align: right;\">\n",
       "      <th></th>\n",
       "      <th>customer_id</th>\n",
       "      <th>surname</th>\n",
       "      <th>credit_score</th>\n",
       "      <th>geography</th>\n",
       "      <th>gender</th>\n",
       "      <th>age</th>\n",
       "      <th>tenure</th>\n",
       "      <th>balance</th>\n",
       "      <th>num_products</th>\n",
       "      <th>has_cr_card</th>\n",
       "      <th>is_active_member</th>\n",
       "      <th>estimated_salary</th>\n",
       "      <th>churn</th>\n",
       "      <th>complain</th>\n",
       "      <th>satisfaction_score</th>\n",
       "      <th>card_type</th>\n",
       "      <th>point_earned</th>\n",
       "    </tr>\n",
       "  </thead>\n",
       "  <tbody>\n",
       "    <tr>\n",
       "      <th>7142</th>\n",
       "      <td>15654859</td>\n",
       "      <td>Ngozichukwuka</td>\n",
       "      <td>612</td>\n",
       "      <td>Spain</td>\n",
       "      <td>Female</td>\n",
       "      <td>63</td>\n",
       "      <td>2</td>\n",
       "      <td>131629.17</td>\n",
       "      <td>2</td>\n",
       "      <td>1</td>\n",
       "      <td>0</td>\n",
       "      <td>122109.58</td>\n",
       "      <td>1</td>\n",
       "      <td>1</td>\n",
       "      <td>4</td>\n",
       "      <td>SILVER</td>\n",
       "      <td>642</td>\n",
       "    </tr>\n",
       "    <tr>\n",
       "      <th>6725</th>\n",
       "      <td>15639552</td>\n",
       "      <td>Mellor</td>\n",
       "      <td>603</td>\n",
       "      <td>Germany</td>\n",
       "      <td>Female</td>\n",
       "      <td>40</td>\n",
       "      <td>8</td>\n",
       "      <td>148897.02</td>\n",
       "      <td>1</td>\n",
       "      <td>0</td>\n",
       "      <td>0</td>\n",
       "      <td>105052.90</td>\n",
       "      <td>0</td>\n",
       "      <td>0</td>\n",
       "      <td>1</td>\n",
       "      <td>DIAMOND</td>\n",
       "      <td>352</td>\n",
       "    </tr>\n",
       "    <tr>\n",
       "      <th>8129</th>\n",
       "      <td>15729246</td>\n",
       "      <td>Hardacre</td>\n",
       "      <td>847</td>\n",
       "      <td>Spain</td>\n",
       "      <td>Male</td>\n",
       "      <td>31</td>\n",
       "      <td>5</td>\n",
       "      <td>0.00</td>\n",
       "      <td>2</td>\n",
       "      <td>1</td>\n",
       "      <td>1</td>\n",
       "      <td>76326.67</td>\n",
       "      <td>0</td>\n",
       "      <td>0</td>\n",
       "      <td>4</td>\n",
       "      <td>SILVER</td>\n",
       "      <td>791</td>\n",
       "    </tr>\n",
       "    <tr>\n",
       "      <th>5338</th>\n",
       "      <td>15784000</td>\n",
       "      <td>Pope</td>\n",
       "      <td>715</td>\n",
       "      <td>Germany</td>\n",
       "      <td>Female</td>\n",
       "      <td>34</td>\n",
       "      <td>9</td>\n",
       "      <td>102277.52</td>\n",
       "      <td>1</td>\n",
       "      <td>0</td>\n",
       "      <td>0</td>\n",
       "      <td>177852.57</td>\n",
       "      <td>1</td>\n",
       "      <td>1</td>\n",
       "      <td>2</td>\n",
       "      <td>SILVER</td>\n",
       "      <td>338</td>\n",
       "    </tr>\n",
       "    <tr>\n",
       "      <th>9866</th>\n",
       "      <td>15632446</td>\n",
       "      <td>Allan</td>\n",
       "      <td>667</td>\n",
       "      <td>France</td>\n",
       "      <td>Male</td>\n",
       "      <td>24</td>\n",
       "      <td>4</td>\n",
       "      <td>0.00</td>\n",
       "      <td>2</td>\n",
       "      <td>0</td>\n",
       "      <td>0</td>\n",
       "      <td>180329.83</td>\n",
       "      <td>0</td>\n",
       "      <td>0</td>\n",
       "      <td>3</td>\n",
       "      <td>SILVER</td>\n",
       "      <td>392</td>\n",
       "    </tr>\n",
       "  </tbody>\n",
       "</table>\n",
       "</div>"
      ],
      "text/plain": [
       "      customer_id        surname  credit_score geography  gender  age  tenure  \\\n",
       "7142     15654859  Ngozichukwuka           612     Spain  Female   63       2   \n",
       "6725     15639552         Mellor           603   Germany  Female   40       8   \n",
       "8129     15729246       Hardacre           847     Spain    Male   31       5   \n",
       "5338     15784000           Pope           715   Germany  Female   34       9   \n",
       "9866     15632446          Allan           667    France    Male   24       4   \n",
       "\n",
       "        balance  num_products  has_cr_card  is_active_member  \\\n",
       "7142  131629.17             2            1                 0   \n",
       "6725  148897.02             1            0                 0   \n",
       "8129       0.00             2            1                 1   \n",
       "5338  102277.52             1            0                 0   \n",
       "9866       0.00             2            0                 0   \n",
       "\n",
       "      estimated_salary  churn  complain  satisfaction_score card_type  \\\n",
       "7142         122109.58      1         1                   4    SILVER   \n",
       "6725         105052.90      0         0                   1   DIAMOND   \n",
       "8129          76326.67      0         0                   4    SILVER   \n",
       "5338         177852.57      1         1                   2    SILVER   \n",
       "9866         180329.83      0         0                   3    SILVER   \n",
       "\n",
       "      point_earned  \n",
       "7142           642  \n",
       "6725           352  \n",
       "8129           791  \n",
       "5338           338  \n",
       "9866           392  "
      ]
     },
     "execution_count": 8,
     "metadata": {},
     "output_type": "execute_result"
    }
   ],
   "source": [
    "train.head()"
   ]
  },
  {
   "cell_type": "code",
   "execution_count": 9,
   "id": "e52ac60a",
   "metadata": {},
   "outputs": [
    {
     "data": {
      "text/plain": [
       "((7200, 17), (1800, 17), (1000, 17))"
      ]
     },
     "execution_count": 9,
     "metadata": {},
     "output_type": "execute_result"
    }
   ],
   "source": [
    "train.shape, val.shape, test.shape"
   ]
  },
  {
   "cell_type": "code",
   "execution_count": 10,
   "id": "f7d4973f",
   "metadata": {},
   "outputs": [],
   "source": [
    "#I want to start by looking at points earned and credit score"
   ]
  },
  {
   "cell_type": "markdown",
   "id": "0503589a",
   "metadata": {},
   "source": [
    "<div class=\"alert alert-info\">\n",
    "    <header>\n",
    "    <h2>Exploration Question 1:</h2>\n",
    "    </header>\n",
    "    <dl>\n",
    "        <dt>Are customers with less points earned more likely to churn?</dt>\n",
    "        <dd>- $H_0$: There is no significant difference in the average points earned by customers that churn and customers that don't.</dd>\n",
    "        <dd>- $H_a$: The average points earned of customers that have not churned is significantlly higher than the average points earnd of customers that have churned.</dd>\n",
    "    </dl>\n",
    "</div>"
   ]
  },
  {
   "cell_type": "code",
   "execution_count": 11,
   "id": "787dd839",
   "metadata": {},
   "outputs": [],
   "source": [
    "no_churn= train[train['churn']==0]"
   ]
  },
  {
   "cell_type": "code",
   "execution_count": 12,
   "id": "d58b6505",
   "metadata": {},
   "outputs": [],
   "source": [
    "no_churn_points=no_churn['point_earned']"
   ]
  },
  {
   "cell_type": "code",
   "execution_count": 13,
   "id": "5babf033",
   "metadata": {},
   "outputs": [
    {
     "data": {
      "text/plain": [
       "<AxesSubplot:xlabel='point_earned', ylabel='Count'>"
      ]
     },
     "execution_count": 13,
     "metadata": {},
     "output_type": "execute_result"
    },
    {
     "data": {
      "image/png": "[encoded data removed]",
      "text/plain": [
       "<Figure size 640x480 with 1 Axes>"
      ]
     },
     "metadata": {},
     "output_type": "display_data"
    }
   ],
   "source": [
    "sns.histplot(no_churn_points)"
   ]
  },
  {
   "cell_type": "code",
   "execution_count": 14,
   "id": "9bea8bc4",
   "metadata": {},
   "outputs": [],
   "source": [
    "churned=train[train['churn']==1]"
   ]
  },
  {
   "cell_type": "code",
   "execution_count": 15,
   "id": "c25de9a5",
   "metadata": {},
   "outputs": [],
   "source": [
    "churned_points= churned['point_earned']"
   ]
  },
  {
   "cell_type": "code",
   "execution_count": 16,
   "id": "91419d5d",
   "metadata": {},
   "outputs": [
    {
     "data": {
      "text/plain": [
       "<AxesSubplot:xlabel='point_earned', ylabel='Count'>"
      ]
     },
     "execution_count": 16,
     "metadata": {},
     "output_type": "execute_result"
    },
    {
     "data": {
      "image/png": "[encoded data removed]",
      "text/plain": [
       "<Figure size 640x480 with 1 Axes>"
      ]
     },
     "metadata": {},
     "output_type": "display_data"
    }
   ],
   "source": [
    "sns.histplot(churned_points)"
   ]
  },
  {
   "cell_type": "code",
   "execution_count": 17,
   "id": "1f93eac4",
   "metadata": {},
   "outputs": [],
   "source": [
    "alpha=0.05"
   ]
  },
  {
   "cell_type": "code",
   "execution_count": 18,
   "id": "e5b0d111",
   "metadata": {
    "scrolled": true
   },
   "outputs": [
    {
     "data": {
      "text/plain": [
       "Ttest_indResult(statistic=1.3064811721984397, pvalue=0.09571536013341075)"
      ]
     },
     "execution_count": 18,
     "metadata": {},
     "output_type": "execute_result"
    }
   ],
   "source": [
    "stats.ttest_ind(no_churn_points, churned_points, alternative='greater')"
   ]
  },
  {
   "cell_type": "markdown",
   "id": "82f140f4",
   "metadata": {},
   "source": [
    "* the p-value is not lower than the alpha so we do not reject the null hypothesis\n",
    "* `point_earned` is not a good predictor/driver of churn"
   ]
  },
  {
   "cell_type": "markdown",
   "id": "73e1ce5a",
   "metadata": {},
   "source": [
    "<div class=\"alert alert-info\">\n",
    "    <header>\n",
    "    <h2>Exploration Question 2:</h2>\n",
    "    </header>\n",
    "    <dl>\n",
    "        <dt>Are customers with lower credit score more likely to churn?</dt>\n",
    "        <dd>- $H_0$: There is no significant difference in the average credit score of customers that churn and customers that don't.</dd>\n",
    "        <dd>- $H_a$: The average credit score of customers that have not churned is significantlly higher than the average credit score of customers that have churned.</dd>\n",
    "    </dl>\n",
    "</div>"
   ]
  },
  {
   "cell_type": "code",
   "execution_count": 19,
   "id": "3514e941",
   "metadata": {},
   "outputs": [],
   "source": [
    "no_churn_cs= no_churn['credit_score']"
   ]
  },
  {
   "cell_type": "code",
   "execution_count": 20,
   "id": "72063dbb",
   "metadata": {},
   "outputs": [
    {
     "data": {
      "text/plain": [
       "<AxesSubplot:xlabel='credit_score', ylabel='Count'>"
      ]
     },
     "execution_count": 20,
     "metadata": {},
     "output_type": "execute_result"
    },
    {
     "data": {
      "image/png": "[encoded data removed]",
      "text/plain": [
       "<Figure size 640x480 with 1 Axes>"
      ]
     },
     "metadata": {},
     "output_type": "display_data"
    }
   ],
   "source": [
    "sns.histplot(no_churn_cs)"
   ]
  },
  {
   "cell_type": "code",
   "execution_count": 21,
   "id": "6db91035",
   "metadata": {},
   "outputs": [],
   "source": [
    "churn_cs= churned['credit_score']"
   ]
  },
  {
   "cell_type": "code",
   "execution_count": 22,
   "id": "8ad8fb3e",
   "metadata": {},
   "outputs": [
    {
     "data": {
      "text/plain": [
       "<AxesSubplot:xlabel='credit_score', ylabel='Count'>"
      ]
     },
     "execution_count": 22,
     "metadata": {},
     "output_type": "execute_result"
    },
    {
     "data": {
      "image/png": "[encoded data removed]",
      "text/plain": [
       "<Figure size 640x480 with 1 Axes>"
      ]
     },
     "metadata": {},
     "output_type": "display_data"
    }
   ],
   "source": [
    "sns.histplot(churn_cs)"
   ]
  },
  {
   "cell_type": "code",
   "execution_count": 23,
   "id": "0efebdfe",
   "metadata": {},
   "outputs": [
    {
     "data": {
      "text/plain": [
       "Ttest_indResult(statistic=1.8632508788985662, pvalue=0.03123383687715922)"
      ]
     },
     "execution_count": 23,
     "metadata": {},
     "output_type": "execute_result"
    }
   ],
   "source": [
    "stats.ttest_ind(no_churn_cs, churn_cs, alternative='greater')"
   ]
  },
  {
   "cell_type": "code",
   "execution_count": 24,
   "id": "efcdf0cd",
   "metadata": {},
   "outputs": [
    {
     "data": {
      "text/plain": [
       "(650.888772845953, 645.5903780068728)"
      ]
     },
     "execution_count": 24,
     "metadata": {},
     "output_type": "execute_result"
    }
   ],
   "source": [
    "no_churn_cs.mean(), churn_cs.mean()"
   ]
  },
  {
   "cell_type": "markdown",
   "id": "5c87d0eb",
   "metadata": {},
   "source": [
    "* the p-value is lower than the alpha of 0.05 so we can reject the null hypothesis\n",
    "* the actual difference in the means is about 5 points on average and in most cases 5 points will not impact an individual in any way\n",
    "* though is is statistically significant, is is not a driver of customer churn."
   ]
  },
  {
   "cell_type": "markdown",
   "id": "d170ca52",
   "metadata": {},
   "source": [
    "<div class=\"alert alert-info\">\n",
    "    <header>\n",
    "    <h2>Exploration Question 3:</h2>\n",
    "    </header>\n",
    "    <dl>\n",
    "        <dt>Are customers in a certain country more likely to churn?</dt>\n",
    "        <dd>- $H_0$: Wether customers will churn or not is not dependent on the geography.</dd>\n",
    "        <dd>- $H_a$: Wether customers will churn or not is dependent on the geography.</dd>\n",
    "    </dl>\n",
    "</div>"
   ]
  },
  {
   "cell_type": "code",
   "execution_count": 25,
   "id": "dc3b28ac",
   "metadata": {},
   "outputs": [
    {
     "data": {
      "text/html": [
       "<div>\n",
       "<style scoped>\n",
       "    .dataframe tbody tr th:only-of-type {\n",
       "        vertical-align: middle;\n",
       "    }\n",
       "\n",
       "    .dataframe tbody tr th {\n",
       "        vertical-align: top;\n",
       "    }\n",
       "\n",
       "    .dataframe thead th {\n",
       "        text-align: right;\n",
       "    }\n",
       "</style>\n",
       "<table border=\"1\" class=\"dataframe\">\n",
       "  <thead>\n",
       "    <tr style=\"text-align: right;\">\n",
       "      <th></th>\n",
       "      <th>customer_id</th>\n",
       "      <th>surname</th>\n",
       "      <th>credit_score</th>\n",
       "      <th>geography</th>\n",
       "      <th>gender</th>\n",
       "      <th>age</th>\n",
       "      <th>tenure</th>\n",
       "      <th>balance</th>\n",
       "      <th>num_products</th>\n",
       "      <th>has_cr_card</th>\n",
       "      <th>is_active_member</th>\n",
       "      <th>estimated_salary</th>\n",
       "      <th>churn</th>\n",
       "      <th>complain</th>\n",
       "      <th>satisfaction_score</th>\n",
       "      <th>card_type</th>\n",
       "      <th>point_earned</th>\n",
       "    </tr>\n",
       "  </thead>\n",
       "  <tbody>\n",
       "    <tr>\n",
       "      <th>7142</th>\n",
       "      <td>15654859</td>\n",
       "      <td>Ngozichukwuka</td>\n",
       "      <td>612</td>\n",
       "      <td>Spain</td>\n",
       "      <td>Female</td>\n",
       "      <td>63</td>\n",
       "      <td>2</td>\n",
       "      <td>131629.17</td>\n",
       "      <td>2</td>\n",
       "      <td>1</td>\n",
       "      <td>0</td>\n",
       "      <td>122109.58</td>\n",
       "      <td>1</td>\n",
       "      <td>1</td>\n",
       "      <td>4</td>\n",
       "      <td>SILVER</td>\n",
       "      <td>642</td>\n",
       "    </tr>\n",
       "    <tr>\n",
       "      <th>6725</th>\n",
       "      <td>15639552</td>\n",
       "      <td>Mellor</td>\n",
       "      <td>603</td>\n",
       "      <td>Germany</td>\n",
       "      <td>Female</td>\n",
       "      <td>40</td>\n",
       "      <td>8</td>\n",
       "      <td>148897.02</td>\n",
       "      <td>1</td>\n",
       "      <td>0</td>\n",
       "      <td>0</td>\n",
       "      <td>105052.90</td>\n",
       "      <td>0</td>\n",
       "      <td>0</td>\n",
       "      <td>1</td>\n",
       "      <td>DIAMOND</td>\n",
       "      <td>352</td>\n",
       "    </tr>\n",
       "    <tr>\n",
       "      <th>8129</th>\n",
       "      <td>15729246</td>\n",
       "      <td>Hardacre</td>\n",
       "      <td>847</td>\n",
       "      <td>Spain</td>\n",
       "      <td>Male</td>\n",
       "      <td>31</td>\n",
       "      <td>5</td>\n",
       "      <td>0.00</td>\n",
       "      <td>2</td>\n",
       "      <td>1</td>\n",
       "      <td>1</td>\n",
       "      <td>76326.67</td>\n",
       "      <td>0</td>\n",
       "      <td>0</td>\n",
       "      <td>4</td>\n",
       "      <td>SILVER</td>\n",
       "      <td>791</td>\n",
       "    </tr>\n",
       "    <tr>\n",
       "      <th>5338</th>\n",
       "      <td>15784000</td>\n",
       "      <td>Pope</td>\n",
       "      <td>715</td>\n",
       "      <td>Germany</td>\n",
       "      <td>Female</td>\n",
       "      <td>34</td>\n",
       "      <td>9</td>\n",
       "      <td>102277.52</td>\n",
       "      <td>1</td>\n",
       "      <td>0</td>\n",
       "      <td>0</td>\n",
       "      <td>177852.57</td>\n",
       "      <td>1</td>\n",
       "      <td>1</td>\n",
       "      <td>2</td>\n",
       "      <td>SILVER</td>\n",
       "      <td>338</td>\n",
       "    </tr>\n",
       "    <tr>\n",
       "      <th>9866</th>\n",
       "      <td>15632446</td>\n",
       "      <td>Allan</td>\n",
       "      <td>667</td>\n",
       "      <td>France</td>\n",
       "      <td>Male</td>\n",
       "      <td>24</td>\n",
       "      <td>4</td>\n",
       "      <td>0.00</td>\n",
       "      <td>2</td>\n",
       "      <td>0</td>\n",
       "      <td>0</td>\n",
       "      <td>180329.83</td>\n",
       "      <td>0</td>\n",
       "      <td>0</td>\n",
       "      <td>3</td>\n",
       "      <td>SILVER</td>\n",
       "      <td>392</td>\n",
       "    </tr>\n",
       "  </tbody>\n",
       "</table>\n",
       "</div>"
      ],
      "text/plain": [
       "      customer_id        surname  credit_score geography  gender  age  tenure  \\\n",
       "7142     15654859  Ngozichukwuka           612     Spain  Female   63       2   \n",
       "6725     15639552         Mellor           603   Germany  Female   40       8   \n",
       "8129     15729246       Hardacre           847     Spain    Male   31       5   \n",
       "5338     15784000           Pope           715   Germany  Female   34       9   \n",
       "9866     15632446          Allan           667    France    Male   24       4   \n",
       "\n",
       "        balance  num_products  has_cr_card  is_active_member  \\\n",
       "7142  131629.17             2            1                 0   \n",
       "6725  148897.02             1            0                 0   \n",
       "8129       0.00             2            1                 1   \n",
       "5338  102277.52             1            0                 0   \n",
       "9866       0.00             2            0                 0   \n",
       "\n",
       "      estimated_salary  churn  complain  satisfaction_score card_type  \\\n",
       "7142         122109.58      1         1                   4    SILVER   \n",
       "6725         105052.90      0         0                   1   DIAMOND   \n",
       "8129          76326.67      0         0                   4    SILVER   \n",
       "5338         177852.57      1         1                   2    SILVER   \n",
       "9866         180329.83      0         0                   3    SILVER   \n",
       "\n",
       "      point_earned  \n",
       "7142           642  \n",
       "6725           352  \n",
       "8129           791  \n",
       "5338           338  \n",
       "9866           392  "
      ]
     },
     "execution_count": 25,
     "metadata": {},
     "output_type": "execute_result"
    }
   ],
   "source": [
    "train.head()"
   ]
  },
  {
   "cell_type": "code",
   "execution_count": 26,
   "id": "182ab747",
   "metadata": {},
   "outputs": [
    {
     "data": {
      "text/plain": [
       "France     3605\n",
       "Spain      1798\n",
       "Germany    1797\n",
       "Name: geography, dtype: int64"
      ]
     },
     "execution_count": 26,
     "metadata": {},
     "output_type": "execute_result"
    }
   ],
   "source": [
    "train['geography'].value_counts()"
   ]
  },
  {
   "cell_type": "code",
   "execution_count": 27,
   "id": "8836038e",
   "metadata": {},
   "outputs": [],
   "source": [
    "france=churned[churned['geography']=='France']\n",
    "spain=churned[churned['geography']=='Spain']\n",
    "germany=churned[churned['geography']=='Germany']"
   ]
  },
  {
   "cell_type": "code",
   "execution_count": 28,
   "id": "59935272",
   "metadata": {},
   "outputs": [
    {
     "data": {
      "text/html": [
       "<div>\n",
       "<style scoped>\n",
       "    .dataframe tbody tr th:only-of-type {\n",
       "        vertical-align: middle;\n",
       "    }\n",
       "\n",
       "    .dataframe tbody tr th {\n",
       "        vertical-align: top;\n",
       "    }\n",
       "\n",
       "    .dataframe thead th {\n",
       "        text-align: right;\n",
       "    }\n",
       "</style>\n",
       "<table border=\"1\" class=\"dataframe\">\n",
       "  <thead>\n",
       "    <tr style=\"text-align: right;\">\n",
       "      <th></th>\n",
       "      <th>customer_id</th>\n",
       "      <th>surname</th>\n",
       "      <th>credit_score</th>\n",
       "      <th>geography</th>\n",
       "      <th>gender</th>\n",
       "      <th>age</th>\n",
       "      <th>tenure</th>\n",
       "      <th>balance</th>\n",
       "      <th>num_products</th>\n",
       "      <th>has_cr_card</th>\n",
       "      <th>is_active_member</th>\n",
       "      <th>estimated_salary</th>\n",
       "      <th>churn</th>\n",
       "      <th>complain</th>\n",
       "      <th>satisfaction_score</th>\n",
       "      <th>card_type</th>\n",
       "      <th>point_earned</th>\n",
       "    </tr>\n",
       "  </thead>\n",
       "  <tbody>\n",
       "    <tr>\n",
       "      <th>245</th>\n",
       "      <td>15797219</td>\n",
       "      <td>Ifesinachi</td>\n",
       "      <td>635</td>\n",
       "      <td>France</td>\n",
       "      <td>Female</td>\n",
       "      <td>40</td>\n",
       "      <td>10</td>\n",
       "      <td>123497.58</td>\n",
       "      <td>1</td>\n",
       "      <td>1</td>\n",
       "      <td>0</td>\n",
       "      <td>131953.23</td>\n",
       "      <td>1</td>\n",
       "      <td>1</td>\n",
       "      <td>5</td>\n",
       "      <td>GOLD</td>\n",
       "      <td>774</td>\n",
       "    </tr>\n",
       "    <tr>\n",
       "      <th>2439</th>\n",
       "      <td>15586976</td>\n",
       "      <td>Alexeeva</td>\n",
       "      <td>566</td>\n",
       "      <td>France</td>\n",
       "      <td>Female</td>\n",
       "      <td>42</td>\n",
       "      <td>6</td>\n",
       "      <td>0.00</td>\n",
       "      <td>1</td>\n",
       "      <td>1</td>\n",
       "      <td>0</td>\n",
       "      <td>180702.12</td>\n",
       "      <td>1</td>\n",
       "      <td>1</td>\n",
       "      <td>3</td>\n",
       "      <td>GOLD</td>\n",
       "      <td>420</td>\n",
       "    </tr>\n",
       "    <tr>\n",
       "      <th>3732</th>\n",
       "      <td>15689598</td>\n",
       "      <td>Dean</td>\n",
       "      <td>722</td>\n",
       "      <td>France</td>\n",
       "      <td>Male</td>\n",
       "      <td>46</td>\n",
       "      <td>6</td>\n",
       "      <td>0.00</td>\n",
       "      <td>1</td>\n",
       "      <td>1</td>\n",
       "      <td>1</td>\n",
       "      <td>93917.68</td>\n",
       "      <td>1</td>\n",
       "      <td>1</td>\n",
       "      <td>3</td>\n",
       "      <td>GOLD</td>\n",
       "      <td>747</td>\n",
       "    </tr>\n",
       "    <tr>\n",
       "      <th>1047</th>\n",
       "      <td>15793949</td>\n",
       "      <td>Cheng</td>\n",
       "      <td>726</td>\n",
       "      <td>France</td>\n",
       "      <td>Female</td>\n",
       "      <td>48</td>\n",
       "      <td>4</td>\n",
       "      <td>0.00</td>\n",
       "      <td>1</td>\n",
       "      <td>1</td>\n",
       "      <td>0</td>\n",
       "      <td>114020.06</td>\n",
       "      <td>1</td>\n",
       "      <td>1</td>\n",
       "      <td>2</td>\n",
       "      <td>DIAMOND</td>\n",
       "      <td>283</td>\n",
       "    </tr>\n",
       "    <tr>\n",
       "      <th>2518</th>\n",
       "      <td>15759436</td>\n",
       "      <td>Aksenov</td>\n",
       "      <td>758</td>\n",
       "      <td>France</td>\n",
       "      <td>Female</td>\n",
       "      <td>50</td>\n",
       "      <td>2</td>\n",
       "      <td>95813.76</td>\n",
       "      <td>3</td>\n",
       "      <td>1</td>\n",
       "      <td>1</td>\n",
       "      <td>67944.09</td>\n",
       "      <td>1</td>\n",
       "      <td>1</td>\n",
       "      <td>2</td>\n",
       "      <td>PLATINUM</td>\n",
       "      <td>525</td>\n",
       "    </tr>\n",
       "  </tbody>\n",
       "</table>\n",
       "</div>"
      ],
      "text/plain": [
       "      customer_id     surname  credit_score geography  gender  age  tenure  \\\n",
       "245      15797219  Ifesinachi           635    France  Female   40      10   \n",
       "2439     15586976    Alexeeva           566    France  Female   42       6   \n",
       "3732     15689598        Dean           722    France    Male   46       6   \n",
       "1047     15793949       Cheng           726    France  Female   48       4   \n",
       "2518     15759436     Aksenov           758    France  Female   50       2   \n",
       "\n",
       "        balance  num_products  has_cr_card  is_active_member  \\\n",
       "245   123497.58             1            1                 0   \n",
       "2439       0.00             1            1                 0   \n",
       "3732       0.00             1            1                 1   \n",
       "1047       0.00             1            1                 0   \n",
       "2518   95813.76             3            1                 1   \n",
       "\n",
       "      estimated_salary  churn  complain  satisfaction_score card_type  \\\n",
       "245          131953.23      1         1                   5      GOLD   \n",
       "2439         180702.12      1         1                   3      GOLD   \n",
       "3732          93917.68      1         1                   3      GOLD   \n",
       "1047         114020.06      1         1                   2   DIAMOND   \n",
       "2518          67944.09      1         1                   2  PLATINUM   \n",
       "\n",
       "      point_earned  \n",
       "245            774  \n",
       "2439           420  \n",
       "3732           747  \n",
       "1047           283  \n",
       "2518           525  "
      ]
     },
     "execution_count": 28,
     "metadata": {},
     "output_type": "execute_result"
    }
   ],
   "source": [
    "france.head()"
   ]
  },
  {
   "cell_type": "code",
   "execution_count": 29,
   "id": "7bf0899b",
   "metadata": {},
   "outputs": [
    {
     "data": {
      "text/plain": [
       "(573, 17)"
      ]
     },
     "execution_count": 29,
     "metadata": {},
     "output_type": "execute_result"
    }
   ],
   "source": [
    "france.shape"
   ]
  },
  {
   "cell_type": "code",
   "execution_count": 30,
   "id": "c784db1e",
   "metadata": {},
   "outputs": [],
   "source": [
    "# need to run a chi squared"
   ]
  },
  {
   "cell_type": "code",
   "execution_count": 31,
   "id": "a50cc361",
   "metadata": {},
   "outputs": [
    {
     "data": {
      "text/html": [
       "<div>\n",
       "<style scoped>\n",
       "    .dataframe tbody tr th:only-of-type {\n",
       "        vertical-align: middle;\n",
       "    }\n",
       "\n",
       "    .dataframe tbody tr th {\n",
       "        vertical-align: top;\n",
       "    }\n",
       "\n",
       "    .dataframe thead th {\n",
       "        text-align: right;\n",
       "    }\n",
       "</style>\n",
       "<table border=\"1\" class=\"dataframe\">\n",
       "  <thead>\n",
       "    <tr style=\"text-align: right;\">\n",
       "      <th>churn</th>\n",
       "      <th>0</th>\n",
       "      <th>1</th>\n",
       "    </tr>\n",
       "    <tr>\n",
       "      <th>geography</th>\n",
       "      <th></th>\n",
       "      <th></th>\n",
       "    </tr>\n",
       "  </thead>\n",
       "  <tbody>\n",
       "    <tr>\n",
       "      <th>France</th>\n",
       "      <td>3032</td>\n",
       "      <td>573</td>\n",
       "    </tr>\n",
       "    <tr>\n",
       "      <th>Germany</th>\n",
       "      <td>1220</td>\n",
       "      <td>577</td>\n",
       "    </tr>\n",
       "    <tr>\n",
       "      <th>Spain</th>\n",
       "      <td>1493</td>\n",
       "      <td>305</td>\n",
       "    </tr>\n",
       "  </tbody>\n",
       "</table>\n",
       "</div>"
      ],
      "text/plain": [
       "churn         0    1\n",
       "geography           \n",
       "France     3032  573\n",
       "Germany    1220  577\n",
       "Spain      1493  305"
      ]
     },
     "execution_count": 31,
     "metadata": {},
     "output_type": "execute_result"
    }
   ],
   "source": [
    "observed = pd.crosstab(train['geography'], train['churn'])\n",
    "observed"
   ]
  },
  {
   "cell_type": "code",
   "execution_count": 32,
   "id": "f9d8c2ff",
   "metadata": {},
   "outputs": [],
   "source": [
    "chi2, p, degf, expected = stats.chi2_contingency(observed)"
   ]
  },
  {
   "cell_type": "code",
   "execution_count": 33,
   "id": "4abc59b0",
   "metadata": {},
   "outputs": [
    {
     "name": "stdout",
     "output_type": "stream",
     "text": [
      "Observed Values\n",
      "\n",
      "[[3032  573]\n",
      " [1220  577]\n",
      " [1493  305]]\n",
      "---\n",
      "Expected Values\n",
      "\n",
      "[[2876  728]\n",
      " [1433  363]\n",
      " [1434  363]]\n",
      "---\n",
      "\n",
      "chi^2 = 211.1817\n",
      "p     = 1.3882650127300721e-46\n"
     ]
    }
   ],
   "source": [
    "print('Observed Values\\n')\n",
    "print(observed.values)\n",
    "print('---\\nExpected Values\\n')\n",
    "print(expected.astype(int))\n",
    "print('---\\n')\n",
    "print(f'chi^2 = {round(chi2,4)}') \n",
    "print(f'p     = {p}')"
   ]
  },
  {
   "cell_type": "markdown",
   "id": "f7c10cfb",
   "metadata": {},
   "source": [
    "* There is a significant difference between the observed and expected values (p-value is less than the alpha)\n",
    "* There is a significant relationship between country and churn"
   ]
  },
  {
   "cell_type": "markdown",
   "id": "9b05591b",
   "metadata": {},
   "source": [
    "## Test the significance of each country"
   ]
  },
  {
   "cell_type": "code",
   "execution_count": 34,
   "id": "d6d699ca",
   "metadata": {},
   "outputs": [],
   "source": [
    "train, val, test= ex.tts(df, 'churn')"
   ]
  },
  {
   "cell_type": "code",
   "execution_count": 35,
   "id": "7dfa21d8",
   "metadata": {},
   "outputs": [
    {
     "data": {
      "text/plain": [
       "France     3605\n",
       "Spain      1798\n",
       "Germany    1797\n",
       "Name: geography, dtype: int64"
      ]
     },
     "execution_count": 35,
     "metadata": {},
     "output_type": "execute_result"
    }
   ],
   "source": [
    "train['geography'].value_counts()"
   ]
  },
  {
   "cell_type": "code",
   "execution_count": 36,
   "id": "414cb50b",
   "metadata": {},
   "outputs": [
    {
     "data": {
      "text/plain": [
       "dtype('O')"
      ]
     },
     "execution_count": 36,
     "metadata": {},
     "output_type": "execute_result"
    }
   ],
   "source": [
    "train['geography'].dtype"
   ]
  },
  {
   "cell_type": "code",
   "execution_count": 37,
   "id": "2240009d",
   "metadata": {},
   "outputs": [],
   "source": [
    "train['is_france']=train['geography']"
   ]
  },
  {
   "cell_type": "code",
   "execution_count": 38,
   "id": "ad3cd960",
   "metadata": {},
   "outputs": [],
   "source": [
    "train['is_france']=train['is_france'].astype('string')"
   ]
  },
  {
   "cell_type": "code",
   "execution_count": 39,
   "id": "f87e68ed",
   "metadata": {},
   "outputs": [],
   "source": [
    "train['is_france'].replace('France','1', inplace=True)\n",
    "train['is_france'].replace('Germany','0', inplace=True)\n",
    "train['is_france'].replace('Spain','0', inplace=True)"
   ]
  },
  {
   "cell_type": "code",
   "execution_count": 40,
   "id": "60be38ab",
   "metadata": {},
   "outputs": [],
   "source": [
    "train['is_france']=train['is_france'].astype(int)"
   ]
  },
  {
   "cell_type": "code",
   "execution_count": 41,
   "id": "9334e79f",
   "metadata": {},
   "outputs": [
    {
     "data": {
      "text/plain": [
       "dtype('int64')"
      ]
     },
     "execution_count": 41,
     "metadata": {},
     "output_type": "execute_result"
    }
   ],
   "source": [
    "train['is_france'].dtype"
   ]
  },
  {
   "cell_type": "code",
   "execution_count": 42,
   "id": "06b55fd8",
   "metadata": {
    "scrolled": false
   },
   "outputs": [
    {
     "data": {
      "text/html": [
       "<div>\n",
       "<style scoped>\n",
       "    .dataframe tbody tr th:only-of-type {\n",
       "        vertical-align: middle;\n",
       "    }\n",
       "\n",
       "    .dataframe tbody tr th {\n",
       "        vertical-align: top;\n",
       "    }\n",
       "\n",
       "    .dataframe thead th {\n",
       "        text-align: right;\n",
       "    }\n",
       "</style>\n",
       "<table border=\"1\" class=\"dataframe\">\n",
       "  <thead>\n",
       "    <tr style=\"text-align: right;\">\n",
       "      <th></th>\n",
       "      <th>customer_id</th>\n",
       "      <th>surname</th>\n",
       "      <th>credit_score</th>\n",
       "      <th>geography</th>\n",
       "      <th>gender</th>\n",
       "      <th>age</th>\n",
       "      <th>tenure</th>\n",
       "      <th>balance</th>\n",
       "      <th>num_products</th>\n",
       "      <th>has_cr_card</th>\n",
       "      <th>is_active_member</th>\n",
       "      <th>estimated_salary</th>\n",
       "      <th>churn</th>\n",
       "      <th>complain</th>\n",
       "      <th>satisfaction_score</th>\n",
       "      <th>card_type</th>\n",
       "      <th>point_earned</th>\n",
       "      <th>is_france</th>\n",
       "    </tr>\n",
       "  </thead>\n",
       "  <tbody>\n",
       "    <tr>\n",
       "      <th>7142</th>\n",
       "      <td>15654859</td>\n",
       "      <td>Ngozichukwuka</td>\n",
       "      <td>612</td>\n",
       "      <td>Spain</td>\n",
       "      <td>Female</td>\n",
       "      <td>63</td>\n",
       "      <td>2</td>\n",
       "      <td>131629.17</td>\n",
       "      <td>2</td>\n",
       "      <td>1</td>\n",
       "      <td>0</td>\n",
       "      <td>122109.58</td>\n",
       "      <td>1</td>\n",
       "      <td>1</td>\n",
       "      <td>4</td>\n",
       "      <td>SILVER</td>\n",
       "      <td>642</td>\n",
       "      <td>0</td>\n",
       "    </tr>\n",
       "    <tr>\n",
       "      <th>6725</th>\n",
       "      <td>15639552</td>\n",
       "      <td>Mellor</td>\n",
       "      <td>603</td>\n",
       "      <td>Germany</td>\n",
       "      <td>Female</td>\n",
       "      <td>40</td>\n",
       "      <td>8</td>\n",
       "      <td>148897.02</td>\n",
       "      <td>1</td>\n",
       "      <td>0</td>\n",
       "      <td>0</td>\n",
       "      <td>105052.90</td>\n",
       "      <td>0</td>\n",
       "      <td>0</td>\n",
       "      <td>1</td>\n",
       "      <td>DIAMOND</td>\n",
       "      <td>352</td>\n",
       "      <td>0</td>\n",
       "    </tr>\n",
       "    <tr>\n",
       "      <th>8129</th>\n",
       "      <td>15729246</td>\n",
       "      <td>Hardacre</td>\n",
       "      <td>847</td>\n",
       "      <td>Spain</td>\n",
       "      <td>Male</td>\n",
       "      <td>31</td>\n",
       "      <td>5</td>\n",
       "      <td>0.00</td>\n",
       "      <td>2</td>\n",
       "      <td>1</td>\n",
       "      <td>1</td>\n",
       "      <td>76326.67</td>\n",
       "      <td>0</td>\n",
       "      <td>0</td>\n",
       "      <td>4</td>\n",
       "      <td>SILVER</td>\n",
       "      <td>791</td>\n",
       "      <td>0</td>\n",
       "    </tr>\n",
       "    <tr>\n",
       "      <th>5338</th>\n",
       "      <td>15784000</td>\n",
       "      <td>Pope</td>\n",
       "      <td>715</td>\n",
       "      <td>Germany</td>\n",
       "      <td>Female</td>\n",
       "      <td>34</td>\n",
       "      <td>9</td>\n",
       "      <td>102277.52</td>\n",
       "      <td>1</td>\n",
       "      <td>0</td>\n",
       "      <td>0</td>\n",
       "      <td>177852.57</td>\n",
       "      <td>1</td>\n",
       "      <td>1</td>\n",
       "      <td>2</td>\n",
       "      <td>SILVER</td>\n",
       "      <td>338</td>\n",
       "      <td>0</td>\n",
       "    </tr>\n",
       "    <tr>\n",
       "      <th>9866</th>\n",
       "      <td>15632446</td>\n",
       "      <td>Allan</td>\n",
       "      <td>667</td>\n",
       "      <td>France</td>\n",
       "      <td>Male</td>\n",
       "      <td>24</td>\n",
       "      <td>4</td>\n",
       "      <td>0.00</td>\n",
       "      <td>2</td>\n",
       "      <td>0</td>\n",
       "      <td>0</td>\n",
       "      <td>180329.83</td>\n",
       "      <td>0</td>\n",
       "      <td>0</td>\n",
       "      <td>3</td>\n",
       "      <td>SILVER</td>\n",
       "      <td>392</td>\n",
       "      <td>1</td>\n",
       "    </tr>\n",
       "  </tbody>\n",
       "</table>\n",
       "</div>"
      ],
      "text/plain": [
       "      customer_id        surname  credit_score geography  gender  age  tenure  \\\n",
       "7142     15654859  Ngozichukwuka           612     Spain  Female   63       2   \n",
       "6725     15639552         Mellor           603   Germany  Female   40       8   \n",
       "8129     15729246       Hardacre           847     Spain    Male   31       5   \n",
       "5338     15784000           Pope           715   Germany  Female   34       9   \n",
       "9866     15632446          Allan           667    France    Male   24       4   \n",
       "\n",
       "        balance  num_products  has_cr_card  is_active_member  \\\n",
       "7142  131629.17             2            1                 0   \n",
       "6725  148897.02             1            0                 0   \n",
       "8129       0.00             2            1                 1   \n",
       "5338  102277.52             1            0                 0   \n",
       "9866       0.00             2            0                 0   \n",
       "\n",
       "      estimated_salary  churn  complain  satisfaction_score card_type  \\\n",
       "7142         122109.58      1         1                   4    SILVER   \n",
       "6725         105052.90      0         0                   1   DIAMOND   \n",
       "8129          76326.67      0         0                   4    SILVER   \n",
       "5338         177852.57      1         1                   2    SILVER   \n",
       "9866         180329.83      0         0                   3    SILVER   \n",
       "\n",
       "      point_earned  is_france  \n",
       "7142           642          0  \n",
       "6725           352          0  \n",
       "8129           791          0  \n",
       "5338           338          0  \n",
       "9866           392          1  "
      ]
     },
     "execution_count": 42,
     "metadata": {},
     "output_type": "execute_result"
    }
   ],
   "source": [
    "train.head()"
   ]
  },
  {
   "cell_type": "code",
   "execution_count": 43,
   "id": "f9091fb1",
   "metadata": {},
   "outputs": [
    {
     "data": {
      "text/html": [
       "<div>\n",
       "<style scoped>\n",
       "    .dataframe tbody tr th:only-of-type {\n",
       "        vertical-align: middle;\n",
       "    }\n",
       "\n",
       "    .dataframe tbody tr th {\n",
       "        vertical-align: top;\n",
       "    }\n",
       "\n",
       "    .dataframe thead th {\n",
       "        text-align: right;\n",
       "    }\n",
       "</style>\n",
       "<table border=\"1\" class=\"dataframe\">\n",
       "  <thead>\n",
       "    <tr style=\"text-align: right;\">\n",
       "      <th>churn</th>\n",
       "      <th>0</th>\n",
       "      <th>1</th>\n",
       "    </tr>\n",
       "    <tr>\n",
       "      <th>is_france</th>\n",
       "      <th></th>\n",
       "      <th></th>\n",
       "    </tr>\n",
       "  </thead>\n",
       "  <tbody>\n",
       "    <tr>\n",
       "      <th>0</th>\n",
       "      <td>2713</td>\n",
       "      <td>882</td>\n",
       "    </tr>\n",
       "    <tr>\n",
       "      <th>1</th>\n",
       "      <td>3032</td>\n",
       "      <td>573</td>\n",
       "    </tr>\n",
       "  </tbody>\n",
       "</table>\n",
       "</div>"
      ],
      "text/plain": [
       "churn         0    1\n",
       "is_france           \n",
       "0          2713  882\n",
       "1          3032  573"
      ]
     },
     "execution_count": 43,
     "metadata": {},
     "output_type": "execute_result"
    }
   ],
   "source": [
    "observed = pd.crosstab(train['is_france'], train['churn'])\n",
    "observed"
   ]
  },
  {
   "cell_type": "code",
   "execution_count": 44,
   "id": "9777f549",
   "metadata": {},
   "outputs": [],
   "source": [
    "chi2, p, degf, expected = stats.chi2_contingency(observed)"
   ]
  },
  {
   "cell_type": "code",
   "execution_count": 45,
   "id": "fe4e38d1",
   "metadata": {},
   "outputs": [
    {
     "name": "stdout",
     "output_type": "stream",
     "text": [
      "Observed Values\n",
      "\n",
      "[[2713  882]\n",
      " [3032  573]]\n",
      "---\n",
      "Expected Values\n",
      "\n",
      "[[2868  726]\n",
      " [2876  728]]\n",
      "---\n",
      "\n",
      "chi^2 = 82.787\n",
      "p     = 9.138973778253511e-20\n"
     ]
    }
   ],
   "source": [
    "print('Observed Values\\n')\n",
    "print(observed.values)\n",
    "print('---\\nExpected Values\\n')\n",
    "print(expected.astype(int))\n",
    "print('---\\n')\n",
    "print(f'chi^2 = {round(chi2,4)}') \n",
    "print(f'p     = {p}')"
   ]
  },
  {
   "cell_type": "markdown",
   "id": "305cfecb",
   "metadata": {},
   "source": [
    "* Customers in France are significantly less likely to churn"
   ]
  },
  {
   "cell_type": "code",
   "execution_count": 46,
   "id": "6763a3a0",
   "metadata": {},
   "outputs": [],
   "source": [
    "train['is_germany']=train['geography']\n",
    "train['is_germany']=train['is_germany'].astype('string')\n",
    "train['is_germany'].replace('France','0', inplace=True)\n",
    "train['is_germany'].replace('Germany','1', inplace=True)\n",
    "train['is_germany'].replace('Spain','0', inplace=True)\n",
    "train['is_germany']=train['is_germany'].astype(int)"
   ]
  },
  {
   "cell_type": "code",
   "execution_count": 47,
   "id": "fff7b341",
   "metadata": {},
   "outputs": [
    {
     "data": {
      "text/html": [
       "<div>\n",
       "<style scoped>\n",
       "    .dataframe tbody tr th:only-of-type {\n",
       "        vertical-align: middle;\n",
       "    }\n",
       "\n",
       "    .dataframe tbody tr th {\n",
       "        vertical-align: top;\n",
       "    }\n",
       "\n",
       "    .dataframe thead th {\n",
       "        text-align: right;\n",
       "    }\n",
       "</style>\n",
       "<table border=\"1\" class=\"dataframe\">\n",
       "  <thead>\n",
       "    <tr style=\"text-align: right;\">\n",
       "      <th>churn</th>\n",
       "      <th>0</th>\n",
       "      <th>1</th>\n",
       "    </tr>\n",
       "    <tr>\n",
       "      <th>is_germany</th>\n",
       "      <th></th>\n",
       "      <th></th>\n",
       "    </tr>\n",
       "  </thead>\n",
       "  <tbody>\n",
       "    <tr>\n",
       "      <th>0</th>\n",
       "      <td>4525</td>\n",
       "      <td>878</td>\n",
       "    </tr>\n",
       "    <tr>\n",
       "      <th>1</th>\n",
       "      <td>1220</td>\n",
       "      <td>577</td>\n",
       "    </tr>\n",
       "  </tbody>\n",
       "</table>\n",
       "</div>"
      ],
      "text/plain": [
       "churn          0    1\n",
       "is_germany           \n",
       "0           4525  878\n",
       "1           1220  577"
      ]
     },
     "execution_count": 47,
     "metadata": {},
     "output_type": "execute_result"
    }
   ],
   "source": [
    "observed = pd.crosstab(train['is_germany'], train['churn'])\n",
    "observed"
   ]
  },
  {
   "cell_type": "code",
   "execution_count": 48,
   "id": "eab0fbd3",
   "metadata": {},
   "outputs": [],
   "source": [
    "chi2, p, degf, expected = stats.chi2_contingency(observed)"
   ]
  },
  {
   "cell_type": "code",
   "execution_count": 49,
   "id": "998feffe",
   "metadata": {},
   "outputs": [
    {
     "name": "stdout",
     "output_type": "stream",
     "text": [
      "Observed Values\n",
      "\n",
      "[[4525  878]\n",
      " [1220  577]]\n",
      "---\n",
      "Expected Values\n",
      "\n",
      "[[4311 1091]\n",
      " [1433  363]]\n",
      "---\n",
      "\n",
      "chi^2 = 209.3496\n",
      "p     = 1.9044228200728024e-47\n"
     ]
    }
   ],
   "source": [
    "print('Observed Values\\n')\n",
    "print(observed.values)\n",
    "print('---\\nExpected Values\\n')\n",
    "print(expected.astype(int))\n",
    "print('---\\n')\n",
    "print(f'chi^2 = {round(chi2,4)}') \n",
    "print(f'p     = {p}')"
   ]
  },
  {
   "cell_type": "markdown",
   "id": "d18a4d7b",
   "metadata": {},
   "source": [
    "* Customers in Germany are significantly more likely to churn"
   ]
  },
  {
   "cell_type": "code",
   "execution_count": 50,
   "id": "4d0ef29a",
   "metadata": {},
   "outputs": [],
   "source": [
    "train['is_spain']=train['geography']\n",
    "train['is_spain']=train['is_spain'].astype('string')\n",
    "train['is_spain'].replace('France','0', inplace=True)\n",
    "train['is_spain'].replace('Germany','0', inplace=True)\n",
    "train['is_spain'].replace('Spain','1', inplace=True)\n",
    "train['is_spain']=train['is_spain'].astype(int)"
   ]
  },
  {
   "cell_type": "code",
   "execution_count": 51,
   "id": "90ca5e10",
   "metadata": {},
   "outputs": [
    {
     "data": {
      "text/html": [
       "<div>\n",
       "<style scoped>\n",
       "    .dataframe tbody tr th:only-of-type {\n",
       "        vertical-align: middle;\n",
       "    }\n",
       "\n",
       "    .dataframe tbody tr th {\n",
       "        vertical-align: top;\n",
       "    }\n",
       "\n",
       "    .dataframe thead th {\n",
       "        text-align: right;\n",
       "    }\n",
       "</style>\n",
       "<table border=\"1\" class=\"dataframe\">\n",
       "  <thead>\n",
       "    <tr style=\"text-align: right;\">\n",
       "      <th>churn</th>\n",
       "      <th>0</th>\n",
       "      <th>1</th>\n",
       "    </tr>\n",
       "    <tr>\n",
       "      <th>is_spain</th>\n",
       "      <th></th>\n",
       "      <th></th>\n",
       "    </tr>\n",
       "  </thead>\n",
       "  <tbody>\n",
       "    <tr>\n",
       "      <th>0</th>\n",
       "      <td>4252</td>\n",
       "      <td>1150</td>\n",
       "    </tr>\n",
       "    <tr>\n",
       "      <th>1</th>\n",
       "      <td>1493</td>\n",
       "      <td>305</td>\n",
       "    </tr>\n",
       "  </tbody>\n",
       "</table>\n",
       "</div>"
      ],
      "text/plain": [
       "churn        0     1\n",
       "is_spain            \n",
       "0         4252  1150\n",
       "1         1493   305"
      ]
     },
     "execution_count": 51,
     "metadata": {},
     "output_type": "execute_result"
    }
   ],
   "source": [
    "observed = pd.crosstab(train['is_spain'], train['churn'])\n",
    "observed"
   ]
  },
  {
   "cell_type": "code",
   "execution_count": 52,
   "id": "509ffb0e",
   "metadata": {},
   "outputs": [],
   "source": [
    "chi2, p, degf, expected = stats.chi2_contingency(observed)"
   ]
  },
  {
   "cell_type": "code",
   "execution_count": 53,
   "id": "8e3590a7",
   "metadata": {},
   "outputs": [
    {
     "name": "stdout",
     "output_type": "stream",
     "text": [
      "Observed Values\n",
      "\n",
      "[[4252 1150]\n",
      " [1493  305]]\n",
      "---\n",
      "Expected Values\n",
      "\n",
      "[[4310 1091]\n",
      " [1434  363]]\n",
      "---\n",
      "\n",
      "chi^2 = 15.3831\n",
      "p     = 8.776896908694881e-05\n"
     ]
    }
   ],
   "source": [
    "print('Observed Values\\n')\n",
    "print(observed.values)\n",
    "print('---\\nExpected Values\\n')\n",
    "print(expected.astype(int))\n",
    "print('---\\n')\n",
    "print(f'chi^2 = {round(chi2,4)}') \n",
    "print(f'p     = {p}')"
   ]
  },
  {
   "cell_type": "markdown",
   "id": "1a2b1d5d",
   "metadata": {},
   "source": [
    "* Customers in Spain are significantly less likely to churn"
   ]
  },
  {
   "cell_type": "markdown",
   "id": "fe1d68ba",
   "metadata": {},
   "source": [
    "## Explore Question 3 Conclusion:\n",
    "* Customers in Spain and France are less likely to churn\n",
    "* The company should focus on retaining more German customers\n",
    "* Consider other German banks and see how their service compares to yours\n",
    "## Next Step:\n",
    "* Continue exploring German customers in this data set"
   ]
  },
  {
   "cell_type": "code",
   "execution_count": 54,
   "id": "5e27e798",
   "metadata": {},
   "outputs": [],
   "source": [
    "train.drop(columns=['is_france', 'is_germany', 'is_spain'], inplace=True)"
   ]
  },
  {
   "cell_type": "code",
   "execution_count": 55,
   "id": "f28ce4b5",
   "metadata": {},
   "outputs": [
    {
     "data": {
      "text/html": [
       "<div>\n",
       "<style scoped>\n",
       "    .dataframe tbody tr th:only-of-type {\n",
       "        vertical-align: middle;\n",
       "    }\n",
       "\n",
       "    .dataframe tbody tr th {\n",
       "        vertical-align: top;\n",
       "    }\n",
       "\n",
       "    .dataframe thead th {\n",
       "        text-align: right;\n",
       "    }\n",
       "</style>\n",
       "<table border=\"1\" class=\"dataframe\">\n",
       "  <thead>\n",
       "    <tr style=\"text-align: right;\">\n",
       "      <th></th>\n",
       "      <th>customer_id</th>\n",
       "      <th>surname</th>\n",
       "      <th>credit_score</th>\n",
       "      <th>geography</th>\n",
       "      <th>gender</th>\n",
       "      <th>age</th>\n",
       "      <th>tenure</th>\n",
       "      <th>balance</th>\n",
       "      <th>num_products</th>\n",
       "      <th>has_cr_card</th>\n",
       "      <th>is_active_member</th>\n",
       "      <th>estimated_salary</th>\n",
       "      <th>churn</th>\n",
       "      <th>complain</th>\n",
       "      <th>satisfaction_score</th>\n",
       "      <th>card_type</th>\n",
       "      <th>point_earned</th>\n",
       "    </tr>\n",
       "  </thead>\n",
       "  <tbody>\n",
       "    <tr>\n",
       "      <th>7142</th>\n",
       "      <td>15654859</td>\n",
       "      <td>Ngozichukwuka</td>\n",
       "      <td>612</td>\n",
       "      <td>Spain</td>\n",
       "      <td>Female</td>\n",
       "      <td>63</td>\n",
       "      <td>2</td>\n",
       "      <td>131629.17</td>\n",
       "      <td>2</td>\n",
       "      <td>1</td>\n",
       "      <td>0</td>\n",
       "      <td>122109.58</td>\n",
       "      <td>1</td>\n",
       "      <td>1</td>\n",
       "      <td>4</td>\n",
       "      <td>SILVER</td>\n",
       "      <td>642</td>\n",
       "    </tr>\n",
       "    <tr>\n",
       "      <th>6725</th>\n",
       "      <td>15639552</td>\n",
       "      <td>Mellor</td>\n",
       "      <td>603</td>\n",
       "      <td>Germany</td>\n",
       "      <td>Female</td>\n",
       "      <td>40</td>\n",
       "      <td>8</td>\n",
       "      <td>148897.02</td>\n",
       "      <td>1</td>\n",
       "      <td>0</td>\n",
       "      <td>0</td>\n",
       "      <td>105052.90</td>\n",
       "      <td>0</td>\n",
       "      <td>0</td>\n",
       "      <td>1</td>\n",
       "      <td>DIAMOND</td>\n",
       "      <td>352</td>\n",
       "    </tr>\n",
       "    <tr>\n",
       "      <th>8129</th>\n",
       "      <td>15729246</td>\n",
       "      <td>Hardacre</td>\n",
       "      <td>847</td>\n",
       "      <td>Spain</td>\n",
       "      <td>Male</td>\n",
       "      <td>31</td>\n",
       "      <td>5</td>\n",
       "      <td>0.00</td>\n",
       "      <td>2</td>\n",
       "      <td>1</td>\n",
       "      <td>1</td>\n",
       "      <td>76326.67</td>\n",
       "      <td>0</td>\n",
       "      <td>0</td>\n",
       "      <td>4</td>\n",
       "      <td>SILVER</td>\n",
       "      <td>791</td>\n",
       "    </tr>\n",
       "    <tr>\n",
       "      <th>5338</th>\n",
       "      <td>15784000</td>\n",
       "      <td>Pope</td>\n",
       "      <td>715</td>\n",
       "      <td>Germany</td>\n",
       "      <td>Female</td>\n",
       "      <td>34</td>\n",
       "      <td>9</td>\n",
       "      <td>102277.52</td>\n",
       "      <td>1</td>\n",
       "      <td>0</td>\n",
       "      <td>0</td>\n",
       "      <td>177852.57</td>\n",
       "      <td>1</td>\n",
       "      <td>1</td>\n",
       "      <td>2</td>\n",
       "      <td>SILVER</td>\n",
       "      <td>338</td>\n",
       "    </tr>\n",
       "    <tr>\n",
       "      <th>9866</th>\n",
       "      <td>15632446</td>\n",
       "      <td>Allan</td>\n",
       "      <td>667</td>\n",
       "      <td>France</td>\n",
       "      <td>Male</td>\n",
       "      <td>24</td>\n",
       "      <td>4</td>\n",
       "      <td>0.00</td>\n",
       "      <td>2</td>\n",
       "      <td>0</td>\n",
       "      <td>0</td>\n",
       "      <td>180329.83</td>\n",
       "      <td>0</td>\n",
       "      <td>0</td>\n",
       "      <td>3</td>\n",
       "      <td>SILVER</td>\n",
       "      <td>392</td>\n",
       "    </tr>\n",
       "  </tbody>\n",
       "</table>\n",
       "</div>"
      ],
      "text/plain": [
       "      customer_id        surname  credit_score geography  gender  age  tenure  \\\n",
       "7142     15654859  Ngozichukwuka           612     Spain  Female   63       2   \n",
       "6725     15639552         Mellor           603   Germany  Female   40       8   \n",
       "8129     15729246       Hardacre           847     Spain    Male   31       5   \n",
       "5338     15784000           Pope           715   Germany  Female   34       9   \n",
       "9866     15632446          Allan           667    France    Male   24       4   \n",
       "\n",
       "        balance  num_products  has_cr_card  is_active_member  \\\n",
       "7142  131629.17             2            1                 0   \n",
       "6725  148897.02             1            0                 0   \n",
       "8129       0.00             2            1                 1   \n",
       "5338  102277.52             1            0                 0   \n",
       "9866       0.00             2            0                 0   \n",
       "\n",
       "      estimated_salary  churn  complain  satisfaction_score card_type  \\\n",
       "7142         122109.58      1         1                   4    SILVER   \n",
       "6725         105052.90      0         0                   1   DIAMOND   \n",
       "8129          76326.67      0         0                   4    SILVER   \n",
       "5338         177852.57      1         1                   2    SILVER   \n",
       "9866         180329.83      0         0                   3    SILVER   \n",
       "\n",
       "      point_earned  \n",
       "7142           642  \n",
       "6725           352  \n",
       "8129           791  \n",
       "5338           338  \n",
       "9866           392  "
      ]
     },
     "execution_count": 55,
     "metadata": {},
     "output_type": "execute_result"
    }
   ],
   "source": [
    "train.head()"
   ]
  },
  {
   "cell_type": "markdown",
   "id": "9bba9648",
   "metadata": {},
   "source": [
    "<div class=\"alert alert-info\">\n",
    "    <header>\n",
    "    <h2>Exploration Question 4:</h2>\n",
    "    </header>\n",
    "    <dl>\n",
    "        <dt>Do customers that churn have a significantly lower salary?</dt>\n",
    "        <dd>- $H_0$: Customers that churn do not have a significanyly lower salary than customers that don't churn.</dd>\n",
    "        <dd>- $H_a$: Customers that churn have a significantly lower salary than customers that don't churn.</dd>\n",
    "    </dl>\n",
    "</div>"
   ]
  },
  {
   "cell_type": "code",
   "execution_count": 56,
   "id": "e1d7c6ed",
   "metadata": {},
   "outputs": [],
   "source": [
    "churn_salary=churned['estimated_salary']"
   ]
  },
  {
   "cell_type": "code",
   "execution_count": 57,
   "id": "bf4c7a5d",
   "metadata": {},
   "outputs": [
    {
     "data": {
      "text/plain": [
       "<AxesSubplot:xlabel='estimated_salary', ylabel='Count'>"
      ]
     },
     "execution_count": 57,
     "metadata": {},
     "output_type": "execute_result"
    },
    {
     "data": {
      "image/png": "[encoded data removed]",
      "text/plain": [
       "<Figure size 640x480 with 1 Axes>"
      ]
     },
     "metadata": {},
     "output_type": "display_data"
    }
   ],
   "source": [
    "sns.histplot(churn_salary)"
   ]
  },
  {
   "cell_type": "code",
   "execution_count": 58,
   "id": "0c174a8f",
   "metadata": {},
   "outputs": [],
   "source": [
    "no_churn_salary=no_churn['estimated_salary']"
   ]
  },
  {
   "cell_type": "code",
   "execution_count": 59,
   "id": "d2c24b7b",
   "metadata": {},
   "outputs": [
    {
     "data": {
      "text/plain": [
       "<AxesSubplot:xlabel='estimated_salary', ylabel='Count'>"
      ]
     },
     "execution_count": 59,
     "metadata": {},
     "output_type": "execute_result"
    },
    {
     "data": {
      "image/png": "[encoded data removed]",
      "text/plain": [
       "<Figure size 640x480 with 1 Axes>"
      ]
     },
     "metadata": {},
     "output_type": "display_data"
    }
   ],
   "source": [
    "sns.histplot(no_churn_salary)"
   ]
  },
  {
   "cell_type": "code",
   "execution_count": 60,
   "id": "44144c7b",
   "metadata": {},
   "outputs": [
    {
     "data": {
      "text/plain": [
       "Ttest_indResult(statistic=-0.6893195647456628, pvalue=0.7546777959032747)"
      ]
     },
     "execution_count": 60,
     "metadata": {},
     "output_type": "execute_result"
    }
   ],
   "source": [
    "stats.ttest_ind(churn_salary, no_churn_salary, alternative='greater')"
   ]
  },
  {
   "cell_type": "markdown",
   "id": "e62856fb",
   "metadata": {},
   "source": [
    "* the p-value is not lower than the alpha\n",
    "* estimated salary is not a significant driver of churn"
   ]
  },
  {
   "cell_type": "markdown",
   "id": "413a2920",
   "metadata": {},
   "source": [
    "<div class=\"alert alert-info\">\n",
    "    <header>\n",
    "    <h2>Exploration Question 5:</h2>\n",
    "    </header>\n",
    "    <dl>\n",
    "        <dt>Do customers that churn have a significantly higher age?</dt>\n",
    "        <dd>- $H_0$: Customers that churn do not have a significanyly higher age than customers that don't churn.</dd>\n",
    "        <dd>- $H_a$: Customers that churn have a significantly higher age than customers that don't churn.</dd>\n",
    "    </dl>\n",
    "</div>"
   ]
  },
  {
   "cell_type": "code",
   "execution_count": 61,
   "id": "9e8ca111",
   "metadata": {},
   "outputs": [],
   "source": [
    "churn_age=churned['age']"
   ]
  },
  {
   "cell_type": "code",
   "execution_count": 62,
   "id": "8aecf31b",
   "metadata": {},
   "outputs": [
    {
     "data": {
      "text/plain": [
       "<AxesSubplot:xlabel='age', ylabel='Count'>"
      ]
     },
     "execution_count": 62,
     "metadata": {},
     "output_type": "execute_result"
    },
    {
     "data": {
      "image/png": "[encoded data removed]",
      "text/plain": [
       "<Figure size 640x480 with 1 Axes>"
      ]
     },
     "metadata": {},
     "output_type": "display_data"
    }
   ],
   "source": [
    "sns.histplot(churn_age)"
   ]
  },
  {
   "cell_type": "code",
   "execution_count": 63,
   "id": "047eda04",
   "metadata": {},
   "outputs": [],
   "source": [
    "no_churn_age=no_churn['age']"
   ]
  },
  {
   "cell_type": "code",
   "execution_count": 64,
   "id": "cbc10e2e",
   "metadata": {},
   "outputs": [
    {
     "data": {
      "text/plain": [
       "<AxesSubplot:xlabel='age', ylabel='Count'>"
      ]
     },
     "execution_count": 64,
     "metadata": {},
     "output_type": "execute_result"
    },
    {
     "data": {
      "image/png": "[encoded data removed]",
      "text/plain": [
       "<Figure size 640x480 with 1 Axes>"
      ]
     },
     "metadata": {},
     "output_type": "display_data"
    }
   ],
   "source": [
    "sns.histplot(no_churn_age)"
   ]
  },
  {
   "cell_type": "code",
   "execution_count": 65,
   "id": "6f26e1c3",
   "metadata": {},
   "outputs": [
    {
     "data": {
      "text/plain": [
       "Ttest_indResult(statistic=25.852238983721723, pvalue=2.671774684343541e-141)"
      ]
     },
     "execution_count": 65,
     "metadata": {},
     "output_type": "execute_result"
    }
   ],
   "source": [
    "stats.ttest_ind(churn_age, no_churn_age, alternative='greater')"
   ]
  },
  {
   "cell_type": "code",
   "execution_count": 66,
   "id": "7407d97b",
   "metadata": {},
   "outputs": [],
   "source": [
    "def q5_plots(train):\n",
    "    '''\n",
    "    This function plots the necessary plots to visualize explore question 5\n",
    "    '''\n",
    "    churn_age=train[train['churn']==1]\n",
    "    no_churn_age=train[train['churn']==0]\n",
    "    plt.figure(figsize=(10,5))\n",
    "    plt.subplot(221)\n",
    "    sns.histplot(x='age', data=churn_age)\n",
    "    plt.title('Age of Churned Customers')\n",
    "    plt.xlabel('Age')\n",
    "    plt.grid(True, alpha=0.3, linestyle='--', axis='y')\n",
    "\n",
    "    plt.subplot(222)\n",
    "    sns.histplot(x='age', data=no_churn_age)\n",
    "    plt.title('Age of Retained Customers')\n",
    "    plt.xlabel('Age')\n",
    "    plt.grid(True, alpha=0.3, linestyle='--', axis='y')\n",
    "    \n",
    "    plt.figure(figsize=(25,10))\n",
    "    plt.subplot(223)\n",
    "    plt.title('Age of Retained and Churned Customers')\n",
    "    sns.histplot(x='age', data=churn_age, alpha=.5, color='green', label= 'Churned')\n",
    "    sns.histplot(x='age', data=no_churn_age, alpha=.25, label='Retained')\n",
    "    plt.xlabel('All Ages of Customers')\n",
    "    plt.axvline(x=(churn_age['age'].mean()), color='red', label='Churn Mean Age')\n",
    "    plt.axvline(x=(no_churn_age['age'].mean()), color='yellow', label='Retained Mean Age')\n",
    "    plt.legend()\n",
    "    plt.grid(True, alpha=0.3, linestyle='--', axis='y')\n",
    "    plt.subplots_adjust(left=0.1,\n",
    "                            bottom=-0.1,\n",
    "                            right=0.9,\n",
    "                            top=0.9,\n",
    "                            wspace=0.4,\n",
    "                            hspace=0.4)\n",
    "    plt.show()\n",
    "    \n",
    "    churn_age_mean=round(churn_age['age'].mean(),2)\n",
    "    no_churn_age_mean=round(no_churn_age['age'].mean(),2)\n",
    "    print(f'The mean age of churned customers is {churn_age_mean}.')\n",
    "    print(f'The mean age of retained customers is {no_churn_age_mean}.')"
   ]
  },
  {
   "cell_type": "code",
   "execution_count": 67,
   "id": "1198bbd0",
   "metadata": {},
   "outputs": [
    {
     "data": {
      "image/png": "[encoded data removed]",
      "text/plain": [
       "<Figure size 1000x500 with 2 Axes>"
      ]
     },
     "metadata": {},
     "output_type": "display_data"
    },
    {
     "data": {
      "image/png": "[encoded data removed]",
      "text/plain": [
       "<Figure size 2500x1000 with 1 Axes>"
      ]
     },
     "metadata": {},
     "output_type": "display_data"
    },
    {
     "name": "stdout",
     "output_type": "stream",
     "text": [
      "The mean age of churned customers is 45.03.\n",
      "The mean age of retained customers is 37.37.\n"
     ]
    }
   ],
   "source": [
    "q5_plots(train)"
   ]
  },
  {
   "cell_type": "markdown",
   "id": "aefbb884",
   "metadata": {},
   "source": [
    "* P-value is lower than the alpha so we reject the null hypothesis\n",
    "* The age of customers that churn is significantly higher than customers that don't churn"
   ]
  },
  {
   "cell_type": "code",
   "execution_count": 68,
   "id": "d25e2a7b",
   "metadata": {},
   "outputs": [
    {
     "data": {
      "text/html": [
       "<div>\n",
       "<style scoped>\n",
       "    .dataframe tbody tr th:only-of-type {\n",
       "        vertical-align: middle;\n",
       "    }\n",
       "\n",
       "    .dataframe tbody tr th {\n",
       "        vertical-align: top;\n",
       "    }\n",
       "\n",
       "    .dataframe thead th {\n",
       "        text-align: right;\n",
       "    }\n",
       "</style>\n",
       "<table border=\"1\" class=\"dataframe\">\n",
       "  <thead>\n",
       "    <tr style=\"text-align: right;\">\n",
       "      <th></th>\n",
       "      <th>customer_id</th>\n",
       "      <th>surname</th>\n",
       "      <th>credit_score</th>\n",
       "      <th>geography</th>\n",
       "      <th>gender</th>\n",
       "      <th>age</th>\n",
       "      <th>tenure</th>\n",
       "      <th>balance</th>\n",
       "      <th>num_products</th>\n",
       "      <th>has_cr_card</th>\n",
       "      <th>is_active_member</th>\n",
       "      <th>estimated_salary</th>\n",
       "      <th>churn</th>\n",
       "      <th>complain</th>\n",
       "      <th>satisfaction_score</th>\n",
       "      <th>card_type</th>\n",
       "      <th>point_earned</th>\n",
       "    </tr>\n",
       "  </thead>\n",
       "  <tbody>\n",
       "    <tr>\n",
       "      <th>7142</th>\n",
       "      <td>15654859</td>\n",
       "      <td>Ngozichukwuka</td>\n",
       "      <td>612</td>\n",
       "      <td>Spain</td>\n",
       "      <td>Female</td>\n",
       "      <td>63</td>\n",
       "      <td>2</td>\n",
       "      <td>131629.17</td>\n",
       "      <td>2</td>\n",
       "      <td>1</td>\n",
       "      <td>0</td>\n",
       "      <td>122109.58</td>\n",
       "      <td>1</td>\n",
       "      <td>1</td>\n",
       "      <td>4</td>\n",
       "      <td>SILVER</td>\n",
       "      <td>642</td>\n",
       "    </tr>\n",
       "    <tr>\n",
       "      <th>6725</th>\n",
       "      <td>15639552</td>\n",
       "      <td>Mellor</td>\n",
       "      <td>603</td>\n",
       "      <td>Germany</td>\n",
       "      <td>Female</td>\n",
       "      <td>40</td>\n",
       "      <td>8</td>\n",
       "      <td>148897.02</td>\n",
       "      <td>1</td>\n",
       "      <td>0</td>\n",
       "      <td>0</td>\n",
       "      <td>105052.90</td>\n",
       "      <td>0</td>\n",
       "      <td>0</td>\n",
       "      <td>1</td>\n",
       "      <td>DIAMOND</td>\n",
       "      <td>352</td>\n",
       "    </tr>\n",
       "    <tr>\n",
       "      <th>8129</th>\n",
       "      <td>15729246</td>\n",
       "      <td>Hardacre</td>\n",
       "      <td>847</td>\n",
       "      <td>Spain</td>\n",
       "      <td>Male</td>\n",
       "      <td>31</td>\n",
       "      <td>5</td>\n",
       "      <td>0.00</td>\n",
       "      <td>2</td>\n",
       "      <td>1</td>\n",
       "      <td>1</td>\n",
       "      <td>76326.67</td>\n",
       "      <td>0</td>\n",
       "      <td>0</td>\n",
       "      <td>4</td>\n",
       "      <td>SILVER</td>\n",
       "      <td>791</td>\n",
       "    </tr>\n",
       "    <tr>\n",
       "      <th>5338</th>\n",
       "      <td>15784000</td>\n",
       "      <td>Pope</td>\n",
       "      <td>715</td>\n",
       "      <td>Germany</td>\n",
       "      <td>Female</td>\n",
       "      <td>34</td>\n",
       "      <td>9</td>\n",
       "      <td>102277.52</td>\n",
       "      <td>1</td>\n",
       "      <td>0</td>\n",
       "      <td>0</td>\n",
       "      <td>177852.57</td>\n",
       "      <td>1</td>\n",
       "      <td>1</td>\n",
       "      <td>2</td>\n",
       "      <td>SILVER</td>\n",
       "      <td>338</td>\n",
       "    </tr>\n",
       "    <tr>\n",
       "      <th>9866</th>\n",
       "      <td>15632446</td>\n",
       "      <td>Allan</td>\n",
       "      <td>667</td>\n",
       "      <td>France</td>\n",
       "      <td>Male</td>\n",
       "      <td>24</td>\n",
       "      <td>4</td>\n",
       "      <td>0.00</td>\n",
       "      <td>2</td>\n",
       "      <td>0</td>\n",
       "      <td>0</td>\n",
       "      <td>180329.83</td>\n",
       "      <td>0</td>\n",
       "      <td>0</td>\n",
       "      <td>3</td>\n",
       "      <td>SILVER</td>\n",
       "      <td>392</td>\n",
       "    </tr>\n",
       "  </tbody>\n",
       "</table>\n",
       "</div>"
      ],
      "text/plain": [
       "      customer_id        surname  credit_score geography  gender  age  tenure  \\\n",
       "7142     15654859  Ngozichukwuka           612     Spain  Female   63       2   \n",
       "6725     15639552         Mellor           603   Germany  Female   40       8   \n",
       "8129     15729246       Hardacre           847     Spain    Male   31       5   \n",
       "5338     15784000           Pope           715   Germany  Female   34       9   \n",
       "9866     15632446          Allan           667    France    Male   24       4   \n",
       "\n",
       "        balance  num_products  has_cr_card  is_active_member  \\\n",
       "7142  131629.17             2            1                 0   \n",
       "6725  148897.02             1            0                 0   \n",
       "8129       0.00             2            1                 1   \n",
       "5338  102277.52             1            0                 0   \n",
       "9866       0.00             2            0                 0   \n",
       "\n",
       "      estimated_salary  churn  complain  satisfaction_score card_type  \\\n",
       "7142         122109.58      1         1                   4    SILVER   \n",
       "6725         105052.90      0         0                   1   DIAMOND   \n",
       "8129          76326.67      0         0                   4    SILVER   \n",
       "5338         177852.57      1         1                   2    SILVER   \n",
       "9866         180329.83      0         0                   3    SILVER   \n",
       "\n",
       "      point_earned  \n",
       "7142           642  \n",
       "6725           352  \n",
       "8129           791  \n",
       "5338           338  \n",
       "9866           392  "
      ]
     },
     "execution_count": 68,
     "metadata": {},
     "output_type": "execute_result"
    }
   ],
   "source": [
    "train.head()"
   ]
  },
  {
   "cell_type": "markdown",
   "id": "3bf4b819",
   "metadata": {},
   "source": [
    "<div class=\"alert alert-info\">\n",
    "    <header>\n",
    "    <h2>Exploration Question 6:</h2>\n",
    "    </header>\n",
    "    <dl>\n",
    "        <dt>Are customers with lower balance more likely to churn?</dt>\n",
    "        <dd>- $H_0$: There is no significant difference in the average balance of customers that churn and customers that don't.</dd>\n",
    "        <dd>- $H_a$: The average balance of customers that have not churned is significantlly higher than the average balance of customers that have churned.</dd>\n",
    "    </dl>\n",
    "</div>"
   ]
  },
  {
   "cell_type": "code",
   "execution_count": 69,
   "id": "2d395845",
   "metadata": {},
   "outputs": [],
   "source": [
    "churn_balance=churned['balance']"
   ]
  },
  {
   "cell_type": "code",
   "execution_count": 70,
   "id": "a65c6c1f",
   "metadata": {
    "scrolled": false
   },
   "outputs": [
    {
     "data": {
      "text/plain": [
       "<AxesSubplot:xlabel='balance', ylabel='Count'>"
      ]
     },
     "execution_count": 70,
     "metadata": {},
     "output_type": "execute_result"
    },
    {
     "data": {
      "image/png": "[encoded data removed]",
      "text/plain": [
       "<Figure size 640x480 with 1 Axes>"
      ]
     },
     "metadata": {},
     "output_type": "display_data"
    }
   ],
   "source": [
    "sns.histplot(churn_balance)"
   ]
  },
  {
   "cell_type": "code",
   "execution_count": 71,
   "id": "9a5f16c8",
   "metadata": {},
   "outputs": [
    {
     "data": {
      "text/plain": [
       "90153.98549828166"
      ]
     },
     "execution_count": 71,
     "metadata": {},
     "output_type": "execute_result"
    }
   ],
   "source": [
    "churn_balance.mean()"
   ]
  },
  {
   "cell_type": "code",
   "execution_count": 72,
   "id": "206c5183",
   "metadata": {},
   "outputs": [],
   "source": [
    "no_churn_balance=no_churn['balance']"
   ]
  },
  {
   "cell_type": "code",
   "execution_count": 73,
   "id": "06392db0",
   "metadata": {},
   "outputs": [
    {
     "data": {
      "text/plain": [
       "<AxesSubplot:xlabel='balance', ylabel='Count'>"
      ]
     },
     "execution_count": 73,
     "metadata": {},
     "output_type": "execute_result"
    },
    {
     "data": {
      "image/png": "[encoded data removed]",
      "text/plain": [
       "<Figure size 640x480 with 1 Axes>"
      ]
     },
     "metadata": {},
     "output_type": "display_data"
    }
   ],
   "source": [
    "sns.histplot(no_churn_balance)"
   ]
  },
  {
   "cell_type": "code",
   "execution_count": 74,
   "id": "42a221ea",
   "metadata": {},
   "outputs": [
    {
     "data": {
      "text/plain": [
       "73204.5325361183"
      ]
     },
     "execution_count": 74,
     "metadata": {},
     "output_type": "execute_result"
    }
   ],
   "source": [
    "no_churn_balance.mean()"
   ]
  },
  {
   "cell_type": "code",
   "execution_count": 75,
   "id": "eb38f0e9",
   "metadata": {},
   "outputs": [
    {
     "data": {
      "text/plain": [
       "Ttest_indResult(statistic=9.33257861767509, pvalue=6.7497398683989695e-21)"
      ]
     },
     "execution_count": 75,
     "metadata": {},
     "output_type": "execute_result"
    }
   ],
   "source": [
    "stats.ttest_ind(churn_balance, no_churn_balance, alternative='greater')"
   ]
  },
  {
   "cell_type": "markdown",
   "id": "e4c0f5ad",
   "metadata": {},
   "source": [
    "* the p value is lower than the alpha so we can reject the null hypothesis\n",
    "* the results are opposite of what I thought for this question. The higher the balance in these accounts, the more likely the customer is to churn.\n",
    "* the difference in the average balance for customers that churn and don't churn is around 17k"
   ]
  },
  {
   "cell_type": "markdown",
   "id": "3f2d3f3c",
   "metadata": {},
   "source": [
    "<div class=\"alert alert-info\">\n",
    "    <header>\n",
    "    <h2>Exploration Question 7:</h2>\n",
    "    </header>\n",
    "    <dl>\n",
    "        <dt>Are customers with lower balance in Germany more likely to churn?</dt>\n",
    "        <dd>- $H_0$: There is no significant difference in the average balance of customers in Germany that have churned compared to all customers average balance that have churned.</dd>\n",
    "        <dd>- $H_a$: The average balance of customers in Germany that have churned is significantlly higher than the average balance of all customers that have churned.</dd>\n",
    "    </dl>\n",
    "</div>"
   ]
  },
  {
   "cell_type": "code",
   "execution_count": 76,
   "id": "0b9524b5",
   "metadata": {},
   "outputs": [],
   "source": [
    "churn_balance_germany = churned[churned['geography']=='Germany']['balance']"
   ]
  },
  {
   "cell_type": "code",
   "execution_count": 77,
   "id": "29d871b2",
   "metadata": {},
   "outputs": [
    {
     "data": {
      "text/plain": [
       "5338    102277.52\n",
       "5290     94348.94\n",
       "3294    127631.62\n",
       "7068    111009.32\n",
       "6496     96553.52\n",
       "Name: balance, dtype: float64"
      ]
     },
     "execution_count": 77,
     "metadata": {},
     "output_type": "execute_result"
    }
   ],
   "source": [
    "churn_balance_germany.head()"
   ]
  },
  {
   "cell_type": "code",
   "execution_count": 78,
   "id": "7653f185",
   "metadata": {},
   "outputs": [
    {
     "data": {
      "text/plain": [
       "<AxesSubplot:xlabel='balance', ylabel='Count'>"
      ]
     },
     "execution_count": 78,
     "metadata": {},
     "output_type": "execute_result"
    },
    {
     "data": {
      "image/png": "[encoded data removed]",
      "text/plain": [
       "<Figure size 640x480 with 1 Axes>"
      ]
     },
     "metadata": {},
     "output_type": "display_data"
    }
   ],
   "source": [
    "sns.histplot(churn_balance_germany)"
   ]
  },
  {
   "cell_type": "code",
   "execution_count": 79,
   "id": "199e7594",
   "metadata": {},
   "outputs": [],
   "source": [
    "churn_balance= churned['balance']"
   ]
  },
  {
   "cell_type": "code",
   "execution_count": 80,
   "id": "6425a7c8",
   "metadata": {},
   "outputs": [
    {
     "data": {
      "text/plain": [
       "<AxesSubplot:xlabel='balance', ylabel='Count'>"
      ]
     },
     "execution_count": 80,
     "metadata": {},
     "output_type": "execute_result"
    },
    {
     "data": {
      "image/png": "[encoded data removed]",
      "text/plain": [
       "<Figure size 640x480 with 1 Axes>"
      ]
     },
     "metadata": {},
     "output_type": "display_data"
    }
   ],
   "source": [
    "sns.histplot(churn_balance)"
   ]
  },
  {
   "cell_type": "code",
   "execution_count": 81,
   "id": "706edf36",
   "metadata": {},
   "outputs": [],
   "source": [
    "churn_mean_balance=churn_balance.mean()"
   ]
  },
  {
   "cell_type": "code",
   "execution_count": 82,
   "id": "edeadc15",
   "metadata": {},
   "outputs": [
    {
     "data": {
      "text/plain": [
       "Ttest_1sampResult(statistic=37.6365602233125, pvalue=1.1710687406377856e-157)"
      ]
     },
     "execution_count": 82,
     "metadata": {},
     "output_type": "execute_result"
    }
   ],
   "source": [
    "stats.ttest_1samp(churn_balance_germany, churn_mean_balance, alternative='greater')"
   ]
  },
  {
   "cell_type": "markdown",
   "id": "26d0e826",
   "metadata": {},
   "source": [
    "* the p-value is lower than the alpha so we reject the null hypothesis\n",
    "* customers in Germany that have churned have a significantly higher balance compared to all customers that have churned"
   ]
  },
  {
   "cell_type": "markdown",
   "id": "c07ccc13",
   "metadata": {},
   "source": [
    "<div class=\"alert alert-info\">\n",
    "    <header>\n",
    "    <h2>Exploration Question 8:</h2>\n",
    "    </header>\n",
    "    <dl>\n",
    "        <dt>Are customers with lower balance in France or Spain more likely to churn?</dt>\n",
    "        <dd>- $H_0$: There is no significant difference in the average balance of customers in France or Spain that have churned compared to all customers average balance that have churned.</dd>\n",
    "        <dd>- $H_a$: The average balance of customers in France or Spain that have churned is significantlly lower than the average balance of all customers that have churned.</dd>\n",
    "    </dl>\n",
    "</div>"
   ]
  },
  {
   "cell_type": "code",
   "execution_count": 83,
   "id": "04134857",
   "metadata": {},
   "outputs": [],
   "source": [
    "churn_balance_france = churned[churned['geography']=='France']['balance']\n",
    "churn_balance_spain = churned[churned['geography']=='Spain']['balance']"
   ]
  },
  {
   "cell_type": "code",
   "execution_count": 84,
   "id": "361b5f0a",
   "metadata": {},
   "outputs": [
    {
     "data": {
      "text/plain": [
       "<AxesSubplot:xlabel='balance', ylabel='Count'>"
      ]
     },
     "execution_count": 84,
     "metadata": {},
     "output_type": "execute_result"
    },
    {
     "data": {
      "image/png": "[encoded data removed]",
      "text/plain": [
       "<Figure size 640x480 with 1 Axes>"
      ]
     },
     "metadata": {},
     "output_type": "display_data"
    }
   ],
   "source": [
    "sns.histplot(churn_balance_france)"
   ]
  },
  {
   "cell_type": "code",
   "execution_count": 85,
   "id": "35f2186a",
   "metadata": {},
   "outputs": [
    {
     "data": {
      "text/plain": [
       "<AxesSubplot:xlabel='balance', ylabel='Count'>"
      ]
     },
     "execution_count": 85,
     "metadata": {},
     "output_type": "execute_result"
    },
    {
     "data": {
      "image/png": "[encoded data removed]",
      "text/plain": [
       "<Figure size 640x480 with 1 Axes>"
      ]
     },
     "metadata": {},
     "output_type": "display_data"
    }
   ],
   "source": [
    "sns.histplot(churn_balance_spain)"
   ]
  },
  {
   "cell_type": "code",
   "execution_count": 86,
   "id": "e263c181",
   "metadata": {},
   "outputs": [
    {
     "data": {
      "text/plain": [
       "Ttest_1sampResult(statistic=-7.492385229461022, pvalue=1.291149407028778e-13)"
      ]
     },
     "execution_count": 86,
     "metadata": {},
     "output_type": "execute_result"
    }
   ],
   "source": [
    "stats.ttest_1samp(churn_balance_france, churn_mean_balance, alternative='less')"
   ]
  },
  {
   "cell_type": "code",
   "execution_count": 87,
   "id": "7df05a7b",
   "metadata": {},
   "outputs": [
    {
     "data": {
      "text/plain": [
       "Ttest_1sampResult(statistic=-4.811545964697727, pvalue=1.181096800139958e-06)"
      ]
     },
     "execution_count": 87,
     "metadata": {},
     "output_type": "execute_result"
    }
   ],
   "source": [
    "stats.ttest_1samp(churn_balance_spain, churn_mean_balance, alternative='less')"
   ]
  },
  {
   "cell_type": "markdown",
   "id": "26e0c8fb",
   "metadata": {},
   "source": [
    "* The p-values for France and Spain are lower than the alpha\n",
    "* Customers from France and Spain that churn have a significantly lower balance than the average of all churning customers"
   ]
  },
  {
   "cell_type": "markdown",
   "id": "95d453eb",
   "metadata": {},
   "source": [
    "<div class=\"alert alert-info\">\n",
    "    <header>\n",
    "    <h2>Exploration Question 9:</h2>\n",
    "    </header>\n",
    "    <dl>\n",
    "        <dt>Are customers from Germany have more complaints?</dt>\n",
    "        <dd>- $H_0$: There is no significant difference in the complaints of German customers and other customers.</dd>\n",
    "        <dd>- $H_a$: The German customers complain significantly more than French and Spanish customers.</dd>\n",
    "    </dl>\n",
    "</div>"
   ]
  },
  {
   "cell_type": "code",
   "execution_count": 88,
   "id": "275690d6",
   "metadata": {},
   "outputs": [],
   "source": [
    "train['is_germany']=train['geography']\n",
    "train['is_germany']=train['is_germany'].astype('string')\n",
    "train['is_germany'].replace('France','0', inplace=True)\n",
    "train['is_germany'].replace('Germany','1', inplace=True)\n",
    "train['is_germany'].replace('Spain','0', inplace=True)\n",
    "train['is_germany']=train['is_germany'].astype(int)"
   ]
  },
  {
   "cell_type": "code",
   "execution_count": 89,
   "id": "f855a96a",
   "metadata": {},
   "outputs": [
    {
     "data": {
      "text/html": [
       "<div>\n",
       "<style scoped>\n",
       "    .dataframe tbody tr th:only-of-type {\n",
       "        vertical-align: middle;\n",
       "    }\n",
       "\n",
       "    .dataframe tbody tr th {\n",
       "        vertical-align: top;\n",
       "    }\n",
       "\n",
       "    .dataframe thead th {\n",
       "        text-align: right;\n",
       "    }\n",
       "</style>\n",
       "<table border=\"1\" class=\"dataframe\">\n",
       "  <thead>\n",
       "    <tr style=\"text-align: right;\">\n",
       "      <th>complain</th>\n",
       "      <th>0</th>\n",
       "      <th>1</th>\n",
       "    </tr>\n",
       "    <tr>\n",
       "      <th>is_germany</th>\n",
       "      <th></th>\n",
       "      <th></th>\n",
       "    </tr>\n",
       "  </thead>\n",
       "  <tbody>\n",
       "    <tr>\n",
       "      <th>0</th>\n",
       "      <td>4524</td>\n",
       "      <td>879</td>\n",
       "    </tr>\n",
       "    <tr>\n",
       "      <th>1</th>\n",
       "      <td>1214</td>\n",
       "      <td>583</td>\n",
       "    </tr>\n",
       "  </tbody>\n",
       "</table>\n",
       "</div>"
      ],
      "text/plain": [
       "complain       0    1\n",
       "is_germany           \n",
       "0           4524  879\n",
       "1           1214  583"
      ]
     },
     "execution_count": 89,
     "metadata": {},
     "output_type": "execute_result"
    }
   ],
   "source": [
    "observed = pd.crosstab(train['is_germany'], train['complain'])\n",
    "observed"
   ]
  },
  {
   "cell_type": "code",
   "execution_count": 90,
   "id": "1d504e78",
   "metadata": {},
   "outputs": [],
   "source": [
    "chi2, p, degf, expected = stats.chi2_contingency(observed)"
   ]
  },
  {
   "cell_type": "code",
   "execution_count": 91,
   "id": "ed1b1a04",
   "metadata": {},
   "outputs": [
    {
     "name": "stdout",
     "output_type": "stream",
     "text": [
      "Observed Values\n",
      "\n",
      "[[4524  879]\n",
      " [1214  583]]\n",
      "---\n",
      "Expected Values\n",
      "\n",
      "[[4305 1097]\n",
      " [1432  364]]\n",
      "---\n",
      "\n",
      "chi^2 = 217.0006\n",
      "p     = 4.079932895889293e-49\n"
     ]
    }
   ],
   "source": [
    "print('Observed Values\\n')\n",
    "print(observed.values)\n",
    "print('---\\nExpected Values\\n')\n",
    "print(expected.astype(int))\n",
    "print('---\\n')\n",
    "print(f'chi^2 = {round(chi2,4)}') \n",
    "print(f'p     = {p}')"
   ]
  },
  {
   "cell_type": "markdown",
   "id": "19c59810",
   "metadata": {},
   "source": [
    "* the p-value is lower than the alpha so we reject the null hypothesis\n",
    "* German customers have significantly more complaints than other countries\n",
    "* The Company may retain more customers from Germany if they focus thir complaints and try to remedy them"
   ]
  },
  {
   "cell_type": "markdown",
   "id": "60dd71e3",
   "metadata": {},
   "source": [
    "## France"
   ]
  },
  {
   "cell_type": "code",
   "execution_count": 92,
   "id": "6ee67e8d",
   "metadata": {},
   "outputs": [],
   "source": [
    "train['is_france']=train['geography']\n",
    "train['is_france']=train['is_france'].astype('string')\n",
    "train['is_france'].replace('France','1', inplace=True)\n",
    "train['is_france'].replace('Germany','0', inplace=True)\n",
    "train['is_france'].replace('Spain','0', inplace=True)\n",
    "train['is_france']=train['is_france'].astype(int)"
   ]
  },
  {
   "cell_type": "code",
   "execution_count": 93,
   "id": "4a3ffca9",
   "metadata": {},
   "outputs": [
    {
     "data": {
      "text/html": [
       "<div>\n",
       "<style scoped>\n",
       "    .dataframe tbody tr th:only-of-type {\n",
       "        vertical-align: middle;\n",
       "    }\n",
       "\n",
       "    .dataframe tbody tr th {\n",
       "        vertical-align: top;\n",
       "    }\n",
       "\n",
       "    .dataframe thead th {\n",
       "        text-align: right;\n",
       "    }\n",
       "</style>\n",
       "<table border=\"1\" class=\"dataframe\">\n",
       "  <thead>\n",
       "    <tr style=\"text-align: right;\">\n",
       "      <th>complain</th>\n",
       "      <th>0</th>\n",
       "      <th>1</th>\n",
       "    </tr>\n",
       "    <tr>\n",
       "      <th>is_france</th>\n",
       "      <th></th>\n",
       "      <th></th>\n",
       "    </tr>\n",
       "  </thead>\n",
       "  <tbody>\n",
       "    <tr>\n",
       "      <th>0</th>\n",
       "      <td>2706</td>\n",
       "      <td>889</td>\n",
       "    </tr>\n",
       "    <tr>\n",
       "      <th>1</th>\n",
       "      <td>3032</td>\n",
       "      <td>573</td>\n",
       "    </tr>\n",
       "  </tbody>\n",
       "</table>\n",
       "</div>"
      ],
      "text/plain": [
       "complain      0    1\n",
       "is_france           \n",
       "0          2706  889\n",
       "1          3032  573"
      ]
     },
     "execution_count": 93,
     "metadata": {},
     "output_type": "execute_result"
    }
   ],
   "source": [
    "observed = pd.crosstab(train['is_france'], train['complain'])\n",
    "observed"
   ]
  },
  {
   "cell_type": "code",
   "execution_count": 94,
   "id": "f07d60e7",
   "metadata": {},
   "outputs": [],
   "source": [
    "chi2, p, degf, expected = stats.chi2_contingency(observed)"
   ]
  },
  {
   "cell_type": "code",
   "execution_count": 95,
   "id": "69e3c6d5",
   "metadata": {},
   "outputs": [
    {
     "name": "stdout",
     "output_type": "stream",
     "text": [
      "Observed Values\n",
      "\n",
      "[[2706  889]\n",
      " [3032  573]]\n",
      "---\n",
      "Expected Values\n",
      "\n",
      "[[2865  729]\n",
      " [2872  732]]\n",
      "---\n",
      "\n",
      "chi^2 = 86.2636\n",
      "p     = 1.5747934900140974e-20\n"
     ]
    }
   ],
   "source": [
    "print('Observed Values\\n')\n",
    "print(observed.values)\n",
    "print('---\\nExpected Values\\n')\n",
    "print(expected.astype(int))\n",
    "print('---\\n')\n",
    "print(f'chi^2 = {round(chi2,4)}') \n",
    "print(f'p     = {p}')"
   ]
  },
  {
   "cell_type": "markdown",
   "id": "270de659",
   "metadata": {},
   "source": [
    "* We see a significantly less number of complaints from French customers"
   ]
  },
  {
   "cell_type": "markdown",
   "id": "b0530e05",
   "metadata": {},
   "source": [
    "## Spain"
   ]
  },
  {
   "cell_type": "code",
   "execution_count": 96,
   "id": "cad00c69",
   "metadata": {},
   "outputs": [],
   "source": [
    "train['is_spain']=train['geography']\n",
    "train['is_spain']=train['is_spain'].astype('string')\n",
    "train['is_spain'].replace('France','0', inplace=True)\n",
    "train['is_spain'].replace('Germany','0', inplace=True)\n",
    "train['is_spain'].replace('Spain','1', inplace=True)\n",
    "train['is_spain']=train['is_spain'].astype(int)"
   ]
  },
  {
   "cell_type": "code",
   "execution_count": 97,
   "id": "462f6902",
   "metadata": {},
   "outputs": [
    {
     "data": {
      "text/html": [
       "<div>\n",
       "<style scoped>\n",
       "    .dataframe tbody tr th:only-of-type {\n",
       "        vertical-align: middle;\n",
       "    }\n",
       "\n",
       "    .dataframe tbody tr th {\n",
       "        vertical-align: top;\n",
       "    }\n",
       "\n",
       "    .dataframe thead th {\n",
       "        text-align: right;\n",
       "    }\n",
       "</style>\n",
       "<table border=\"1\" class=\"dataframe\">\n",
       "  <thead>\n",
       "    <tr style=\"text-align: right;\">\n",
       "      <th>complain</th>\n",
       "      <th>0</th>\n",
       "      <th>1</th>\n",
       "    </tr>\n",
       "    <tr>\n",
       "      <th>is_france</th>\n",
       "      <th></th>\n",
       "      <th></th>\n",
       "    </tr>\n",
       "  </thead>\n",
       "  <tbody>\n",
       "    <tr>\n",
       "      <th>0</th>\n",
       "      <td>2706</td>\n",
       "      <td>889</td>\n",
       "    </tr>\n",
       "    <tr>\n",
       "      <th>1</th>\n",
       "      <td>3032</td>\n",
       "      <td>573</td>\n",
       "    </tr>\n",
       "  </tbody>\n",
       "</table>\n",
       "</div>"
      ],
      "text/plain": [
       "complain      0    1\n",
       "is_france           \n",
       "0          2706  889\n",
       "1          3032  573"
      ]
     },
     "execution_count": 97,
     "metadata": {},
     "output_type": "execute_result"
    }
   ],
   "source": [
    "observed = pd.crosstab(train['is_france'], train['complain'])\n",
    "observed"
   ]
  },
  {
   "cell_type": "code",
   "execution_count": 98,
   "id": "1532095e",
   "metadata": {},
   "outputs": [],
   "source": [
    "chi2, p, degf, expected = stats.chi2_contingency(observed)"
   ]
  },
  {
   "cell_type": "code",
   "execution_count": 99,
   "id": "61cc9f85",
   "metadata": {},
   "outputs": [
    {
     "name": "stdout",
     "output_type": "stream",
     "text": [
      "Observed Values\n",
      "\n",
      "[[2706  889]\n",
      " [3032  573]]\n",
      "---\n",
      "Expected Values\n",
      "\n",
      "[[2865  729]\n",
      " [2872  732]]\n",
      "---\n",
      "\n",
      "chi^2 = 86.2636\n",
      "p     = 1.5747934900140974e-20\n"
     ]
    }
   ],
   "source": [
    "print('Observed Values\\n')\n",
    "print(observed.values)\n",
    "print('---\\nExpected Values\\n')\n",
    "print(expected.astype(int))\n",
    "print('---\\n')\n",
    "print(f'chi^2 = {round(chi2,4)}') \n",
    "print(f'p     = {p}')"
   ]
  },
  {
   "cell_type": "markdown",
   "id": "82652876",
   "metadata": {},
   "source": [
    "* we see a significantly less than expected number of complaints from Spanish customers"
   ]
  },
  {
   "cell_type": "code",
   "execution_count": 100,
   "id": "1841fc3b",
   "metadata": {},
   "outputs": [
    {
     "data": {
      "text/html": [
       "<div>\n",
       "<style scoped>\n",
       "    .dataframe tbody tr th:only-of-type {\n",
       "        vertical-align: middle;\n",
       "    }\n",
       "\n",
       "    .dataframe tbody tr th {\n",
       "        vertical-align: top;\n",
       "    }\n",
       "\n",
       "    .dataframe thead th {\n",
       "        text-align: right;\n",
       "    }\n",
       "</style>\n",
       "<table border=\"1\" class=\"dataframe\">\n",
       "  <thead>\n",
       "    <tr style=\"text-align: right;\">\n",
       "      <th></th>\n",
       "      <th>customer_id</th>\n",
       "      <th>surname</th>\n",
       "      <th>credit_score</th>\n",
       "      <th>geography</th>\n",
       "      <th>gender</th>\n",
       "      <th>age</th>\n",
       "      <th>tenure</th>\n",
       "      <th>balance</th>\n",
       "      <th>num_products</th>\n",
       "      <th>has_cr_card</th>\n",
       "      <th>is_active_member</th>\n",
       "      <th>estimated_salary</th>\n",
       "      <th>churn</th>\n",
       "      <th>complain</th>\n",
       "      <th>satisfaction_score</th>\n",
       "      <th>card_type</th>\n",
       "      <th>point_earned</th>\n",
       "      <th>is_germany</th>\n",
       "      <th>is_france</th>\n",
       "      <th>is_spain</th>\n",
       "    </tr>\n",
       "  </thead>\n",
       "  <tbody>\n",
       "    <tr>\n",
       "      <th>7142</th>\n",
       "      <td>15654859</td>\n",
       "      <td>Ngozichukwuka</td>\n",
       "      <td>612</td>\n",
       "      <td>Spain</td>\n",
       "      <td>Female</td>\n",
       "      <td>63</td>\n",
       "      <td>2</td>\n",
       "      <td>131629.17</td>\n",
       "      <td>2</td>\n",
       "      <td>1</td>\n",
       "      <td>0</td>\n",
       "      <td>122109.58</td>\n",
       "      <td>1</td>\n",
       "      <td>1</td>\n",
       "      <td>4</td>\n",
       "      <td>SILVER</td>\n",
       "      <td>642</td>\n",
       "      <td>0</td>\n",
       "      <td>0</td>\n",
       "      <td>1</td>\n",
       "    </tr>\n",
       "    <tr>\n",
       "      <th>6725</th>\n",
       "      <td>15639552</td>\n",
       "      <td>Mellor</td>\n",
       "      <td>603</td>\n",
       "      <td>Germany</td>\n",
       "      <td>Female</td>\n",
       "      <td>40</td>\n",
       "      <td>8</td>\n",
       "      <td>148897.02</td>\n",
       "      <td>1</td>\n",
       "      <td>0</td>\n",
       "      <td>0</td>\n",
       "      <td>105052.90</td>\n",
       "      <td>0</td>\n",
       "      <td>0</td>\n",
       "      <td>1</td>\n",
       "      <td>DIAMOND</td>\n",
       "      <td>352</td>\n",
       "      <td>1</td>\n",
       "      <td>0</td>\n",
       "      <td>0</td>\n",
       "    </tr>\n",
       "    <tr>\n",
       "      <th>8129</th>\n",
       "      <td>15729246</td>\n",
       "      <td>Hardacre</td>\n",
       "      <td>847</td>\n",
       "      <td>Spain</td>\n",
       "      <td>Male</td>\n",
       "      <td>31</td>\n",
       "      <td>5</td>\n",
       "      <td>0.00</td>\n",
       "      <td>2</td>\n",
       "      <td>1</td>\n",
       "      <td>1</td>\n",
       "      <td>76326.67</td>\n",
       "      <td>0</td>\n",
       "      <td>0</td>\n",
       "      <td>4</td>\n",
       "      <td>SILVER</td>\n",
       "      <td>791</td>\n",
       "      <td>0</td>\n",
       "      <td>0</td>\n",
       "      <td>1</td>\n",
       "    </tr>\n",
       "    <tr>\n",
       "      <th>5338</th>\n",
       "      <td>15784000</td>\n",
       "      <td>Pope</td>\n",
       "      <td>715</td>\n",
       "      <td>Germany</td>\n",
       "      <td>Female</td>\n",
       "      <td>34</td>\n",
       "      <td>9</td>\n",
       "      <td>102277.52</td>\n",
       "      <td>1</td>\n",
       "      <td>0</td>\n",
       "      <td>0</td>\n",
       "      <td>177852.57</td>\n",
       "      <td>1</td>\n",
       "      <td>1</td>\n",
       "      <td>2</td>\n",
       "      <td>SILVER</td>\n",
       "      <td>338</td>\n",
       "      <td>1</td>\n",
       "      <td>0</td>\n",
       "      <td>0</td>\n",
       "    </tr>\n",
       "    <tr>\n",
       "      <th>9866</th>\n",
       "      <td>15632446</td>\n",
       "      <td>Allan</td>\n",
       "      <td>667</td>\n",
       "      <td>France</td>\n",
       "      <td>Male</td>\n",
       "      <td>24</td>\n",
       "      <td>4</td>\n",
       "      <td>0.00</td>\n",
       "      <td>2</td>\n",
       "      <td>0</td>\n",
       "      <td>0</td>\n",
       "      <td>180329.83</td>\n",
       "      <td>0</td>\n",
       "      <td>0</td>\n",
       "      <td>3</td>\n",
       "      <td>SILVER</td>\n",
       "      <td>392</td>\n",
       "      <td>0</td>\n",
       "      <td>1</td>\n",
       "      <td>0</td>\n",
       "    </tr>\n",
       "  </tbody>\n",
       "</table>\n",
       "</div>"
      ],
      "text/plain": [
       "      customer_id        surname  credit_score geography  gender  age  tenure  \\\n",
       "7142     15654859  Ngozichukwuka           612     Spain  Female   63       2   \n",
       "6725     15639552         Mellor           603   Germany  Female   40       8   \n",
       "8129     15729246       Hardacre           847     Spain    Male   31       5   \n",
       "5338     15784000           Pope           715   Germany  Female   34       9   \n",
       "9866     15632446          Allan           667    France    Male   24       4   \n",
       "\n",
       "        balance  num_products  has_cr_card  is_active_member  \\\n",
       "7142  131629.17             2            1                 0   \n",
       "6725  148897.02             1            0                 0   \n",
       "8129       0.00             2            1                 1   \n",
       "5338  102277.52             1            0                 0   \n",
       "9866       0.00             2            0                 0   \n",
       "\n",
       "      estimated_salary  churn  complain  satisfaction_score card_type  \\\n",
       "7142         122109.58      1         1                   4    SILVER   \n",
       "6725         105052.90      0         0                   1   DIAMOND   \n",
       "8129          76326.67      0         0                   4    SILVER   \n",
       "5338         177852.57      1         1                   2    SILVER   \n",
       "9866         180329.83      0         0                   3    SILVER   \n",
       "\n",
       "      point_earned  is_germany  is_france  is_spain  \n",
       "7142           642           0          0         1  \n",
       "6725           352           1          0         0  \n",
       "8129           791           0          0         1  \n",
       "5338           338           1          0         0  \n",
       "9866           392           0          1         0  "
      ]
     },
     "execution_count": 100,
     "metadata": {},
     "output_type": "execute_result"
    }
   ],
   "source": [
    "train.head()"
   ]
  },
  {
   "cell_type": "markdown",
   "id": "42838ccc",
   "metadata": {},
   "source": [
    "<div class=\"alert alert-info\">\n",
    "    <header>\n",
    "    <h2>Exploration Question 10:</h2>\n",
    "    </header>\n",
    "    <dl>\n",
    "        <dt>Does gender affect churn?</dt>\n",
    "        <dd>- $H_0$: There is no significant difference in the gender of customers and churn.</dd>\n",
    "        <dd>- $H_a$: Male customers churn significantly more than female customers.</dd>\n",
    "    </dl>\n",
    "</div>"
   ]
  },
  {
   "cell_type": "code",
   "execution_count": 101,
   "id": "1cf33572",
   "metadata": {},
   "outputs": [
    {
     "data": {
      "text/html": [
       "<div>\n",
       "<style scoped>\n",
       "    .dataframe tbody tr th:only-of-type {\n",
       "        vertical-align: middle;\n",
       "    }\n",
       "\n",
       "    .dataframe tbody tr th {\n",
       "        vertical-align: top;\n",
       "    }\n",
       "\n",
       "    .dataframe thead th {\n",
       "        text-align: right;\n",
       "    }\n",
       "</style>\n",
       "<table border=\"1\" class=\"dataframe\">\n",
       "  <thead>\n",
       "    <tr style=\"text-align: right;\">\n",
       "      <th>churn</th>\n",
       "      <th>0</th>\n",
       "      <th>1</th>\n",
       "    </tr>\n",
       "    <tr>\n",
       "      <th>gender</th>\n",
       "      <th></th>\n",
       "      <th></th>\n",
       "    </tr>\n",
       "  </thead>\n",
       "  <tbody>\n",
       "    <tr>\n",
       "      <th>Female</th>\n",
       "      <td>2469</td>\n",
       "      <td>817</td>\n",
       "    </tr>\n",
       "    <tr>\n",
       "      <th>Male</th>\n",
       "      <td>3276</td>\n",
       "      <td>638</td>\n",
       "    </tr>\n",
       "  </tbody>\n",
       "</table>\n",
       "</div>"
      ],
      "text/plain": [
       "churn      0    1\n",
       "gender           \n",
       "Female  2469  817\n",
       "Male    3276  638"
      ]
     },
     "execution_count": 101,
     "metadata": {},
     "output_type": "execute_result"
    }
   ],
   "source": [
    "observed = pd.crosstab(train['gender'], train['churn'])\n",
    "observed"
   ]
  },
  {
   "cell_type": "code",
   "execution_count": 102,
   "id": "60e7cb86",
   "metadata": {},
   "outputs": [],
   "source": [
    "chi2, p, degf, expected = stats.chi2_contingency(observed)"
   ]
  },
  {
   "cell_type": "code",
   "execution_count": 103,
   "id": "d032c02f",
   "metadata": {},
   "outputs": [
    {
     "name": "stdout",
     "output_type": "stream",
     "text": [
      "Observed Values\n",
      "\n",
      "[[2469  817]\n",
      " [3276  638]]\n",
      "---\n",
      "Expected Values\n",
      "\n",
      "[[2621  664]\n",
      " [3123  790]]\n",
      "---\n",
      "\n",
      "chi^2 = 80.6928\n",
      "p     = 2.6368377813714005e-19\n"
     ]
    }
   ],
   "source": [
    "print('Observed Values\\n')\n",
    "print(observed.values)\n",
    "print('---\\nExpected Values\\n')\n",
    "print(expected.astype(int))\n",
    "print('---\\n')\n",
    "print(f'chi^2 = {round(chi2,4)}') \n",
    "print(f'p     = {p}')"
   ]
  },
  {
   "cell_type": "markdown",
   "id": "05ef7488",
   "metadata": {},
   "source": [
    "* Female customers churn significantly more than expected\n",
    "* Male customers churn significantly less than expected"
   ]
  },
  {
   "cell_type": "markdown",
   "id": "9ad09633",
   "metadata": {},
   "source": [
    "<div class=\"alert alert-info\">\n",
    "    <header>\n",
    "    <h2>Exploration Question 11:</h2>\n",
    "    </header>\n",
    "    <dl>\n",
    "        <dt>Do customers with a lower tenure churn more often?</dt>\n",
    "        <dd>- $H_0$: There is no significant difference in the tenure of customers that churn and don't churn.</dd>\n",
    "        <dd>- $H_a$: Customers that churn have significantly lower tenure than customers that don't churn.</dd>\n",
    "    </dl>\n",
    "</div>"
   ]
  },
  {
   "cell_type": "code",
   "execution_count": 104,
   "id": "3c0fc876",
   "metadata": {},
   "outputs": [],
   "source": [
    "churn_tenure=churned['tenure']"
   ]
  },
  {
   "cell_type": "code",
   "execution_count": 105,
   "id": "27f2979b",
   "metadata": {},
   "outputs": [
    {
     "data": {
      "text/plain": [
       "<AxesSubplot:xlabel='tenure', ylabel='Count'>"
      ]
     },
     "execution_count": 105,
     "metadata": {},
     "output_type": "execute_result"
    },
    {
     "data": {
      "image/png": "[encoded data removed]",
      "text/plain": [
       "<Figure size 640x480 with 1 Axes>"
      ]
     },
     "metadata": {},
     "output_type": "display_data"
    }
   ],
   "source": [
    "sns.histplot(churn_tenure)"
   ]
  },
  {
   "cell_type": "code",
   "execution_count": 106,
   "id": "4e3c4565",
   "metadata": {},
   "outputs": [],
   "source": [
    "no_churn_tenure=no_churn['tenure']"
   ]
  },
  {
   "cell_type": "code",
   "execution_count": 107,
   "id": "2b7ef849",
   "metadata": {},
   "outputs": [
    {
     "data": {
      "text/plain": [
       "<AxesSubplot:xlabel='tenure', ylabel='Count'>"
      ]
     },
     "execution_count": 107,
     "metadata": {},
     "output_type": "execute_result"
    },
    {
     "data": {
      "image/png": "[encoded data removed]",
      "text/plain": [
       "<Figure size 640x480 with 1 Axes>"
      ]
     },
     "metadata": {},
     "output_type": "display_data"
    }
   ],
   "source": [
    "sns.histplot(no_churn_tenure)"
   ]
  },
  {
   "cell_type": "code",
   "execution_count": 108,
   "id": "6d64ebb8",
   "metadata": {},
   "outputs": [
    {
     "data": {
      "text/plain": [
       "Ttest_indResult(statistic=-1.564940971935476, pvalue=0.05882035503317464)"
      ]
     },
     "execution_count": 108,
     "metadata": {},
     "output_type": "execute_result"
    }
   ],
   "source": [
    "stats.ttest_ind(churn_tenure, no_churn_tenure, alternative='less')"
   ]
  },
  {
   "cell_type": "markdown",
   "id": "05d9ce40",
   "metadata": {},
   "source": [
    "* Though the p-value is very close to the alpha, tenure does not appear to be a significant driver of churn"
   ]
  },
  {
   "cell_type": "markdown",
   "id": "b51ea35d",
   "metadata": {},
   "source": [
    "<div class=\"alert alert-info\">\n",
    "    <header>\n",
    "    <h2>Exploration Question 12:</h2>\n",
    "    </header>\n",
    "    <dl>\n",
    "        <dt>Do customers different card types churn more often?</dt>\n",
    "        <dd>- $H_0$: There is no significant difference in the card type of customers that churn and don't churn.</dd>\n",
    "        <dd>- $H_a$: Customers that have silver and gold card types churn significantly more than diamond and platinum.</dd>\n",
    "    </dl>\n",
    "</div>"
   ]
  },
  {
   "cell_type": "code",
   "execution_count": 109,
   "id": "5372c94a",
   "metadata": {},
   "outputs": [
    {
     "data": {
      "text/plain": [
       "dtype('O')"
      ]
     },
     "execution_count": 109,
     "metadata": {},
     "output_type": "execute_result"
    }
   ],
   "source": [
    "train['card_type'].dtype"
   ]
  },
  {
   "cell_type": "code",
   "execution_count": 111,
   "id": "3c471a3a",
   "metadata": {},
   "outputs": [
    {
     "data": {
      "text/plain": [
       "PLATINUM    1830\n",
       "GOLD        1816\n",
       "DIAMOND     1785\n",
       "SILVER      1769\n",
       "Name: card_type, dtype: int64"
      ]
     },
     "execution_count": 111,
     "metadata": {},
     "output_type": "execute_result"
    }
   ],
   "source": [
    "train['card_type'].value_counts()"
   ]
  },
  {
   "cell_type": "markdown",
   "id": "6c5022ed",
   "metadata": {},
   "source": [
    "## Silver"
   ]
  },
  {
   "cell_type": "code",
   "execution_count": 113,
   "id": "e3f85218",
   "metadata": {},
   "outputs": [],
   "source": [
    "train['is_silver']=train['card_type']\n",
    "train['is_silver']=train['is_silver'].astype('string')\n",
    "train['is_silver'].replace('SILVER','1', inplace=True)\n",
    "train['is_silver'].replace('DIAMOND','0', inplace=True)\n",
    "train['is_silver'].replace('GOLD','0', inplace=True)\n",
    "train['is_silver'].replace('PLATINUM','0', inplace=True)\n",
    "train['is_silver']=train['is_silver'].astype(int)"
   ]
  },
  {
   "cell_type": "code",
   "execution_count": 125,
   "id": "b874cea9",
   "metadata": {},
   "outputs": [],
   "source": [
    "def chi2(cross1, cross2):\n",
    "    observed = pd.crosstab(cross1, cross2)\n",
    "    chi2, p, degf, expected = stats.chi2_contingency(observed)\n",
    "    print('Observed Values\\n')\n",
    "    print(observed.values)\n",
    "    print('---\\nExpected Values\\n')\n",
    "    print(expected.astype(int))\n",
    "    print('---\\n')\n",
    "    print(f'chi^2 = {round(chi2,4)}') \n",
    "    print(f'p     = {p}')\n",
    "    return observed"
   ]
  },
  {
   "cell_type": "code",
   "execution_count": 114,
   "id": "9782c6fe",
   "metadata": {},
   "outputs": [
    {
     "data": {
      "text/html": [
       "<div>\n",
       "<style scoped>\n",
       "    .dataframe tbody tr th:only-of-type {\n",
       "        vertical-align: middle;\n",
       "    }\n",
       "\n",
       "    .dataframe tbody tr th {\n",
       "        vertical-align: top;\n",
       "    }\n",
       "\n",
       "    .dataframe thead th {\n",
       "        text-align: right;\n",
       "    }\n",
       "</style>\n",
       "<table border=\"1\" class=\"dataframe\">\n",
       "  <thead>\n",
       "    <tr style=\"text-align: right;\">\n",
       "      <th>churn</th>\n",
       "      <th>0</th>\n",
       "      <th>1</th>\n",
       "    </tr>\n",
       "    <tr>\n",
       "      <th>is_silver</th>\n",
       "      <th></th>\n",
       "      <th></th>\n",
       "    </tr>\n",
       "  </thead>\n",
       "  <tbody>\n",
       "    <tr>\n",
       "      <th>0</th>\n",
       "      <td>4316</td>\n",
       "      <td>1115</td>\n",
       "    </tr>\n",
       "    <tr>\n",
       "      <th>1</th>\n",
       "      <td>1429</td>\n",
       "      <td>340</td>\n",
       "    </tr>\n",
       "  </tbody>\n",
       "</table>\n",
       "</div>"
      ],
      "text/plain": [
       "churn         0     1\n",
       "is_silver            \n",
       "0          4316  1115\n",
       "1          1429   340"
      ]
     },
     "execution_count": 114,
     "metadata": {},
     "output_type": "execute_result"
    }
   ],
   "source": [
    "observed = pd.crosstab(train['is_silver'], train['churn'])\n",
    "observed"
   ]
  },
  {
   "cell_type": "code",
   "execution_count": 119,
   "id": "ee561fb1",
   "metadata": {},
   "outputs": [],
   "source": [
    "chi2, p, degf, expected = stats.chi2_contingency(observed)"
   ]
  },
  {
   "cell_type": "code",
   "execution_count": 120,
   "id": "99764599",
   "metadata": {},
   "outputs": [
    {
     "name": "stdout",
     "output_type": "stream",
     "text": [
      "Observed Values\n",
      "\n",
      "[[4316 1115]\n",
      " [1429  340]]\n",
      "---\n",
      "Expected Values\n",
      "\n",
      "[[4333 1097]\n",
      " [1411  357]]\n",
      "---\n",
      "\n",
      "chi^2 = 1.3409\n",
      "p     = 0.2468792058135117\n"
     ]
    }
   ],
   "source": [
    "print('Observed Values\\n')\n",
    "print(observed.values)\n",
    "print('---\\nExpected Values\\n')\n",
    "print(expected.astype(int))\n",
    "print('---\\n')\n",
    "print(f'chi^2 = {round(chi2,4)}') \n",
    "print(f'p     = {p}')"
   ]
  },
  {
   "cell_type": "code",
   "execution_count": 126,
   "id": "1c6921f0",
   "metadata": {},
   "outputs": [
    {
     "name": "stdout",
     "output_type": "stream",
     "text": [
      "Observed Values\n",
      "\n",
      "[[4316 1115]\n",
      " [1429  340]]\n",
      "---\n",
      "Expected Values\n",
      "\n",
      "[[4333 1097]\n",
      " [1411  357]]\n",
      "---\n",
      "\n",
      "chi^2 = 1.3409\n",
      "p     = 0.2468792058135117\n"
     ]
    },
    {
     "data": {
      "text/html": [
       "<div>\n",
       "<style scoped>\n",
       "    .dataframe tbody tr th:only-of-type {\n",
       "        vertical-align: middle;\n",
       "    }\n",
       "\n",
       "    .dataframe tbody tr th {\n",
       "        vertical-align: top;\n",
       "    }\n",
       "\n",
       "    .dataframe thead th {\n",
       "        text-align: right;\n",
       "    }\n",
       "</style>\n",
       "<table border=\"1\" class=\"dataframe\">\n",
       "  <thead>\n",
       "    <tr style=\"text-align: right;\">\n",
       "      <th>churn</th>\n",
       "      <th>0</th>\n",
       "      <th>1</th>\n",
       "    </tr>\n",
       "    <tr>\n",
       "      <th>is_silver</th>\n",
       "      <th></th>\n",
       "      <th></th>\n",
       "    </tr>\n",
       "  </thead>\n",
       "  <tbody>\n",
       "    <tr>\n",
       "      <th>0</th>\n",
       "      <td>4316</td>\n",
       "      <td>1115</td>\n",
       "    </tr>\n",
       "    <tr>\n",
       "      <th>1</th>\n",
       "      <td>1429</td>\n",
       "      <td>340</td>\n",
       "    </tr>\n",
       "  </tbody>\n",
       "</table>\n",
       "</div>"
      ],
      "text/plain": [
       "churn         0     1\n",
       "is_silver            \n",
       "0          4316  1115\n",
       "1          1429   340"
      ]
     },
     "execution_count": 126,
     "metadata": {},
     "output_type": "execute_result"
    }
   ],
   "source": [
    "chi2(train['is_silver'], train['churn'])"
   ]
  },
  {
   "cell_type": "markdown",
   "id": "2fe4d9da",
   "metadata": {},
   "source": [
    "* silver customers do not churn significantly more"
   ]
  },
  {
   "cell_type": "markdown",
   "id": "46c3e3a8",
   "metadata": {},
   "source": [
    "## Gold"
   ]
  },
  {
   "cell_type": "code",
   "execution_count": 127,
   "id": "841f343c",
   "metadata": {},
   "outputs": [],
   "source": [
    "train['is_gold']=train['card_type']\n",
    "train['is_gold']=train['is_gold'].astype('string')\n",
    "train['is_gold'].replace('SILVER','0', inplace=True)\n",
    "train['is_gold'].replace('DIAMOND','0', inplace=True)\n",
    "train['is_gold'].replace('GOLD','1', inplace=True)\n",
    "train['is_gold'].replace('PLATINUM','0', inplace=True)\n",
    "train['is_gold']=train['is_gold'].astype(int)"
   ]
  },
  {
   "cell_type": "code",
   "execution_count": 128,
   "id": "dba798f2",
   "metadata": {},
   "outputs": [
    {
     "name": "stdout",
     "output_type": "stream",
     "text": [
      "Observed Values\n",
      "\n",
      "[[4272 1112]\n",
      " [1473  343]]\n",
      "---\n",
      "Expected Values\n",
      "\n",
      "[[4295 1088]\n",
      " [1449  366]]\n",
      "---\n",
      "\n",
      "chi^2 = 2.5185\n",
      "p     = 0.112517114041269\n"
     ]
    },
    {
     "data": {
      "text/html": [
       "<div>\n",
       "<style scoped>\n",
       "    .dataframe tbody tr th:only-of-type {\n",
       "        vertical-align: middle;\n",
       "    }\n",
       "\n",
       "    .dataframe tbody tr th {\n",
       "        vertical-align: top;\n",
       "    }\n",
       "\n",
       "    .dataframe thead th {\n",
       "        text-align: right;\n",
       "    }\n",
       "</style>\n",
       "<table border=\"1\" class=\"dataframe\">\n",
       "  <thead>\n",
       "    <tr style=\"text-align: right;\">\n",
       "      <th>churn</th>\n",
       "      <th>0</th>\n",
       "      <th>1</th>\n",
       "    </tr>\n",
       "    <tr>\n",
       "      <th>is_gold</th>\n",
       "      <th></th>\n",
       "      <th></th>\n",
       "    </tr>\n",
       "  </thead>\n",
       "  <tbody>\n",
       "    <tr>\n",
       "      <th>0</th>\n",
       "      <td>4272</td>\n",
       "      <td>1112</td>\n",
       "    </tr>\n",
       "    <tr>\n",
       "      <th>1</th>\n",
       "      <td>1473</td>\n",
       "      <td>343</td>\n",
       "    </tr>\n",
       "  </tbody>\n",
       "</table>\n",
       "</div>"
      ],
      "text/plain": [
       "churn       0     1\n",
       "is_gold            \n",
       "0        4272  1112\n",
       "1        1473   343"
      ]
     },
     "execution_count": 128,
     "metadata": {},
     "output_type": "execute_result"
    }
   ],
   "source": [
    "chi2(train['is_gold'], train['churn'])"
   ]
  },
  {
   "cell_type": "markdown",
   "id": "380ee17a",
   "metadata": {},
   "source": [
    "* gold customers do not churn significantly more"
   ]
  },
  {
   "cell_type": "markdown",
   "id": "154d3599",
   "metadata": {},
   "source": [
    "## Diamond"
   ]
  },
  {
   "cell_type": "code",
   "execution_count": null,
   "id": "38c18b49",
   "metadata": {},
   "outputs": [],
   "source": []
  }
 ],
 "metadata": {
  "kernelspec": {
   "display_name": "Python 3 (ipykernel)",
   "language": "python",
   "name": "python3"
  },
  "language_info": {
   "codemirror_mode": {
    "name": "ipython",
    "version": 3
   },
   "file_extension": ".py",
   "mimetype": "text/x-python",
   "name": "python",
   "nbconvert_exporter": "python",
   "pygments_lexer": "ipython3",
   "version": "3.9.13"
  }
 },
 "nbformat": 4,
 "nbformat_minor": 5
}
